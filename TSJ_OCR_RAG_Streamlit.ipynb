{
 "cells": [
  {
   "cell_type": "code",
   "execution_count": null,
   "id": "a4d2bf5b",
   "metadata": {},
   "outputs": [],
   "source": [
    "#Here’s a cleaned-up version of your notebook, focused on experimentation and documentation, with all redundant/conflicting code and all %%writefile app.py cells removed.\n",
    "#This version:\n",
    "\n",
    "#Does not overwrite app.py\n",
    "#Removes all system package install cells\n",
    "#Uses only pure Python and API-based OCR code\n",
    "#Keeps only relevant package installs for notebook use\n",
    "#Keeps your Streamlit pages code generation if needed\n"
   ]
  },
  {
   "cell_type": "code",
   "execution_count": null,
   "id": "3b2e7b49",
   "metadata": {},
   "outputs": [],
   "source": [
    "# Install only if not already in requirements.txt\n",
    "# %pip install pymupdf easyocr\n",
    "import fitz  # PyMuPDF\n",
    "from PIL import Image\n",
    "import io\n",
    "import easyocr"
   ]
  },
  {
   "cell_type": "code",
   "execution_count": null,
   "id": "2cc74927",
   "metadata": {},
   "outputs": [],
   "source": [
    "# PDF to image using PyMuPDF\n",
    "def pdf_to_img(pdf_file):\n",
    "    images = []\n",
    "    pdf_file.seek(0)\n",
    "    doc = fitz.open(stream=pdf_file.read(), filetype=\"pdf\")\n",
    "    for page in doc:\n",
    "        pix = page.get_pixmap()\n",
    "        img_bytes = pix.tobytes(\"png\")\n",
    "        img = Image.open(io.BytesIO(img_bytes))\n",
    "        images.append(img)\n",
    "    return images"
   ]
  },
  {
   "cell_type": "code",
   "execution_count": null,
   "id": "e6d0e6b4",
   "metadata": {},
   "outputs": [],
   "source": [
    "# OCR with easyocr\n",
    "reader = easyocr.Reader(['en'])\n",
    "def ocr_with_easyocr(image):\n",
    "    result = reader.readtext(image, detail=0)\n",
    "    return \"\\n\".join(result)"
   ]
  },
  {
   "cell_type": "code",
   "execution_count": null,
   "id": "a9db3213",
   "metadata": {},
   "outputs": [],
   "source": [
    "# Extract text from PDF using easyocr\n",
    "def extract_text_from_pdf(pdf_file):\n",
    "    images = pdf_to_img(pdf_file)\n",
    "    extracted_text = \"\"\n",
    "    for img in images:\n",
    "        extracted_text += ocr_with_easyocr(img) + \"\\n\\n\"\n",
    "    return extracted_text"
   ]
  },
  {
   "cell_type": "markdown",
   "id": "7a51fa06",
   "metadata": {},
   "source": [
    "## Example usage\n",
    "You can upload a PDF and extract text using the above functions."
   ]
  },
  {
   "cell_type": "code",
   "execution_count": null,
   "id": "ff8a42ac",
   "metadata": {},
   "outputs": [],
   "source": [
    "# Example: Use extract_text_from_pdf with a file\n",
    "# with open('yourfile.pdf', 'rb') as f:\n",
    "#     text = extract_text_from_pdf(f)\n",
    "#     print(text)"
   ]
  },
  {
   "cell_type": "markdown",
   "id": "4b38dc08",
   "metadata": {},
   "source": [
    "## Streamlit Pages (Optional)\n",
    "You can still generate Streamlit pages for AboutUs or Methodology if needed."
   ]
  },
  {
   "cell_type": "code",
   "execution_count": null,
   "id": "ed6f7c65",
   "metadata": {},
   "outputs": [],
   "source": [
    "# Example: Write AboutUs page\n",
    "with open('pages/AboutUs.py', 'w') as f:\n",
    "    f.write('''\n",
    "import streamlit as st\n",
    "\n",
    "st.title(\"About Us\")\n",
    "\n",
    "st.write(\"\"\"\n",
    "This tool extracts text from PDF documents using OCR.\n",
    "Features:\n",
    "- Upload multiple PDFs\n",
    "- Summarize extracted text\n",
    "- Chat with your documents (RAG)\n",
    "\"\"\")\n",
    "''')"
   ]
  },
  {
   "cell_type": "code",
   "execution_count": null,
   "id": "cfd625b0",
   "metadata": {},
   "outputs": [],
   "source": [
    "# Example: Write Methodology page\n",
    "with open('pages/Methodology.py', 'w') as f:\n",
    "    f.write('''\n",
    "import streamlit as st\n",
    "import graphviz\n",
    "\n",
    "st.title(\"Methodology\")\n",
    "\n",
    "st.header(\"Process Flowchart\")\n",
    "\n",
    "graph = graphviz.Digraph()\n",
    "graph.node(\"A\", \"User uploads PDF(s)\")\n",
    "graph.node(\"B\", \"Extract text using OCR\")\n",
    "graph.node(\"C\", \"Display extracted text\")\n",
    "graph.node(\"D\", \"Summarize the text\")\n",
    "graph.node(\"E\", \"Display summary\")\n",
    "graph.node(\"F\", \"Chat with documents (RAG)\")\n",
    "graph.edge(\"A\", \"B\")\n",
    "graph.edge(\"B\", \"C\")\n",
    "graph.edge(\"C\", \"D\")\n",
    "graph.edge(\"D\", \"E\")\n",
    "graph.edge(\"E\", \"F\")\n",
    "st.graphviz_chart(graph)\n",
    "''')"
   ]
  }
 ],
 "metadata": {
  "language_info": {
   "name": "python"
  }
 },
 "nbformat": 4,
 "nbformat_minor": 5
}
