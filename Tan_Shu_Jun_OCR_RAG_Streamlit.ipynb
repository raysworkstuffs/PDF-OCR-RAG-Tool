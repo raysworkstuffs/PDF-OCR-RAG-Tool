{
  "cells": [
    {
      "cell_type": "code",
      "execution_count": 13,
      "metadata": {
        "colab": {
          "base_uri": "https://localhost:8080/"
        },
        "collapsed": true,
        "id": "556e7f69",
        "outputId": "b53048bb-1564-4946-8ee7-f82061e3fe89"
      },
      "outputs": [
        {
          "name": "stdout",
          "output_type": "stream",
          "text": [
            "Requirement already satisfied: streamlit==1.47.1 in /home/codespace/.python/current/lib/python3.12/site-packages (from -r /workspaces/PDF-OCR-RAG-Tool/requirements.txt (line 1)) (1.47.1)\n",
            "Requirement already satisfied: openai in /home/codespace/.python/current/lib/python3.12/site-packages (from -r /workspaces/PDF-OCR-RAG-Tool/requirements.txt (line 2)) (1.98.0)\n",
            "Requirement already satisfied: pdf2image in /home/codespace/.python/current/lib/python3.12/site-packages (from -r /workspaces/PDF-OCR-RAG-Tool/requirements.txt (line 3)) (1.17.0)\n",
            "Requirement already satisfied: Image in /home/codespace/.python/current/lib/python3.12/site-packages (from -r /workspaces/PDF-OCR-RAG-Tool/requirements.txt (line 4)) (1.5.33)\n",
            "Requirement already satisfied: pytesseract in /home/codespace/.python/current/lib/python3.12/site-packages (from -r /workspaces/PDF-OCR-RAG-Tool/requirements.txt (line 5)) (0.3.13)\n",
            "Requirement already satisfied: langchain in /home/codespace/.python/current/lib/python3.12/site-packages (from -r /workspaces/PDF-OCR-RAG-Tool/requirements.txt (line 6)) (0.3.27)\n",
            "Requirement already satisfied: langchain-openai in /home/codespace/.python/current/lib/python3.12/site-packages (from -r /workspaces/PDF-OCR-RAG-Tool/requirements.txt (line 7)) (0.3.28)\n",
            "Requirement already satisfied: faiss-cpu in /home/codespace/.python/current/lib/python3.12/site-packages (from -r /workspaces/PDF-OCR-RAG-Tool/requirements.txt (line 8)) (1.11.0.post1)\n",
            "Requirement already satisfied: tiktoken in /home/codespace/.python/current/lib/python3.12/site-packages (from -r /workspaces/PDF-OCR-RAG-Tool/requirements.txt (line 9)) (0.9.0)\n",
            "Requirement already satisfied: graphviz in /home/codespace/.python/current/lib/python3.12/site-packages (from -r /workspaces/PDF-OCR-RAG-Tool/requirements.txt (line 10)) (0.21)\n",
            "Requirement already satisfied: chromadb in /home/codespace/.python/current/lib/python3.12/site-packages (from -r /workspaces/PDF-OCR-RAG-Tool/requirements.txt (line 12)) (1.0.15)\n",
            "Requirement already satisfied: langchain-community in /home/codespace/.python/current/lib/python3.12/site-packages (from -r /workspaces/PDF-OCR-RAG-Tool/requirements.txt (line 13)) (0.3.27)\n",
            "Requirement already satisfied: altair<6,>=4.0 in /home/codespace/.python/current/lib/python3.12/site-packages (from streamlit==1.47.1->-r /workspaces/PDF-OCR-RAG-Tool/requirements.txt (line 1)) (5.5.0)\n",
            "Requirement already satisfied: blinker<2,>=1.5.0 in /home/codespace/.python/current/lib/python3.12/site-packages (from streamlit==1.47.1->-r /workspaces/PDF-OCR-RAG-Tool/requirements.txt (line 1)) (1.9.0)\n",
            "Requirement already satisfied: cachetools<7,>=4.0 in /home/codespace/.python/current/lib/python3.12/site-packages (from streamlit==1.47.1->-r /workspaces/PDF-OCR-RAG-Tool/requirements.txt (line 1)) (5.5.2)\n",
            "Requirement already satisfied: click<9,>=7.0 in /home/codespace/.python/current/lib/python3.12/site-packages (from streamlit==1.47.1->-r /workspaces/PDF-OCR-RAG-Tool/requirements.txt (line 1)) (8.2.1)\n",
            "Requirement already satisfied: numpy<3,>=1.23 in /home/codespace/.local/lib/python3.12/site-packages (from streamlit==1.47.1->-r /workspaces/PDF-OCR-RAG-Tool/requirements.txt (line 1)) (2.3.1)\n",
            "Requirement already satisfied: packaging<26,>=20 in /home/codespace/.local/lib/python3.12/site-packages (from streamlit==1.47.1->-r /workspaces/PDF-OCR-RAG-Tool/requirements.txt (line 1)) (25.0)\n",
            "Requirement already satisfied: pandas<3,>=1.4.0 in /home/codespace/.local/lib/python3.12/site-packages (from streamlit==1.47.1->-r /workspaces/PDF-OCR-RAG-Tool/requirements.txt (line 1)) (2.3.1)\n",
            "Requirement already satisfied: pillow<12,>=7.1.0 in /home/codespace/.local/lib/python3.12/site-packages (from streamlit==1.47.1->-r /workspaces/PDF-OCR-RAG-Tool/requirements.txt (line 1)) (11.3.0)\n",
            "Requirement already satisfied: protobuf<7,>=3.20 in /home/codespace/.python/current/lib/python3.12/site-packages (from streamlit==1.47.1->-r /workspaces/PDF-OCR-RAG-Tool/requirements.txt (line 1)) (6.31.1)\n",
            "Requirement already satisfied: pyarrow>=7.0 in /home/codespace/.python/current/lib/python3.12/site-packages (from streamlit==1.47.1->-r /workspaces/PDF-OCR-RAG-Tool/requirements.txt (line 1)) (21.0.0)\n",
            "Requirement already satisfied: requests<3,>=2.27 in /home/codespace/.local/lib/python3.12/site-packages (from streamlit==1.47.1->-r /workspaces/PDF-OCR-RAG-Tool/requirements.txt (line 1)) (2.32.4)\n",
            "Requirement already satisfied: tenacity<10,>=8.1.0 in /home/codespace/.python/current/lib/python3.12/site-packages (from streamlit==1.47.1->-r /workspaces/PDF-OCR-RAG-Tool/requirements.txt (line 1)) (9.1.2)\n",
            "Requirement already satisfied: toml<2,>=0.10.1 in /home/codespace/.python/current/lib/python3.12/site-packages (from streamlit==1.47.1->-r /workspaces/PDF-OCR-RAG-Tool/requirements.txt (line 1)) (0.10.2)\n",
            "Requirement already satisfied: typing-extensions<5,>=4.4.0 in /home/codespace/.local/lib/python3.12/site-packages (from streamlit==1.47.1->-r /workspaces/PDF-OCR-RAG-Tool/requirements.txt (line 1)) (4.14.1)\n",
            "Requirement already satisfied: watchdog<7,>=2.1.5 in /home/codespace/.python/current/lib/python3.12/site-packages (from streamlit==1.47.1->-r /workspaces/PDF-OCR-RAG-Tool/requirements.txt (line 1)) (6.0.0)\n",
            "Requirement already satisfied: gitpython!=3.1.19,<4,>=3.0.7 in /home/codespace/.local/lib/python3.12/site-packages (from streamlit==1.47.1->-r /workspaces/PDF-OCR-RAG-Tool/requirements.txt (line 1)) (3.1.44)\n",
            "Requirement already satisfied: pydeck<1,>=0.8.0b4 in /home/codespace/.python/current/lib/python3.12/site-packages (from streamlit==1.47.1->-r /workspaces/PDF-OCR-RAG-Tool/requirements.txt (line 1)) (0.9.1)\n",
            "Requirement already satisfied: tornado!=6.5.0,<7,>=6.0.3 in /home/codespace/.local/lib/python3.12/site-packages (from streamlit==1.47.1->-r /workspaces/PDF-OCR-RAG-Tool/requirements.txt (line 1)) (6.5.1)\n",
            "Requirement already satisfied: jinja2 in /home/codespace/.local/lib/python3.12/site-packages (from altair<6,>=4.0->streamlit==1.47.1->-r /workspaces/PDF-OCR-RAG-Tool/requirements.txt (line 1)) (3.1.6)\n",
            "Requirement already satisfied: jsonschema>=3.0 in /home/codespace/.local/lib/python3.12/site-packages (from altair<6,>=4.0->streamlit==1.47.1->-r /workspaces/PDF-OCR-RAG-Tool/requirements.txt (line 1)) (4.24.0)\n",
            "Requirement already satisfied: narwhals>=1.14.2 in /home/codespace/.local/lib/python3.12/site-packages (from altair<6,>=4.0->streamlit==1.47.1->-r /workspaces/PDF-OCR-RAG-Tool/requirements.txt (line 1)) (1.46.0)\n",
            "Requirement already satisfied: gitdb<5,>=4.0.1 in /home/codespace/.local/lib/python3.12/site-packages (from gitpython!=3.1.19,<4,>=3.0.7->streamlit==1.47.1->-r /workspaces/PDF-OCR-RAG-Tool/requirements.txt (line 1)) (4.0.12)\n",
            "Requirement already satisfied: smmap<6,>=3.0.1 in /home/codespace/.local/lib/python3.12/site-packages (from gitdb<5,>=4.0.1->gitpython!=3.1.19,<4,>=3.0.7->streamlit==1.47.1->-r /workspaces/PDF-OCR-RAG-Tool/requirements.txt (line 1)) (5.0.2)\n",
            "Requirement already satisfied: python-dateutil>=2.8.2 in /home/codespace/.local/lib/python3.12/site-packages (from pandas<3,>=1.4.0->streamlit==1.47.1->-r /workspaces/PDF-OCR-RAG-Tool/requirements.txt (line 1)) (2.9.0.post0)\n",
            "Requirement already satisfied: pytz>=2020.1 in /home/codespace/.local/lib/python3.12/site-packages (from pandas<3,>=1.4.0->streamlit==1.47.1->-r /workspaces/PDF-OCR-RAG-Tool/requirements.txt (line 1)) (2025.2)\n",
            "Requirement already satisfied: tzdata>=2022.7 in /home/codespace/.local/lib/python3.12/site-packages (from pandas<3,>=1.4.0->streamlit==1.47.1->-r /workspaces/PDF-OCR-RAG-Tool/requirements.txt (line 1)) (2025.2)\n",
            "Requirement already satisfied: charset_normalizer<4,>=2 in /home/codespace/.local/lib/python3.12/site-packages (from requests<3,>=2.27->streamlit==1.47.1->-r /workspaces/PDF-OCR-RAG-Tool/requirements.txt (line 1)) (3.4.2)\n",
            "Requirement already satisfied: idna<4,>=2.5 in /home/codespace/.local/lib/python3.12/site-packages (from requests<3,>=2.27->streamlit==1.47.1->-r /workspaces/PDF-OCR-RAG-Tool/requirements.txt (line 1)) (3.10)\n",
            "Requirement already satisfied: urllib3<3,>=1.21.1 in /home/codespace/.local/lib/python3.12/site-packages (from requests<3,>=2.27->streamlit==1.47.1->-r /workspaces/PDF-OCR-RAG-Tool/requirements.txt (line 1)) (2.5.0)\n",
            "Requirement already satisfied: certifi>=2017.4.17 in /home/codespace/.local/lib/python3.12/site-packages (from requests<3,>=2.27->streamlit==1.47.1->-r /workspaces/PDF-OCR-RAG-Tool/requirements.txt (line 1)) (2025.7.9)\n",
            "Requirement already satisfied: anyio<5,>=3.5.0 in /home/codespace/.local/lib/python3.12/site-packages (from openai->-r /workspaces/PDF-OCR-RAG-Tool/requirements.txt (line 2)) (4.9.0)\n",
            "Requirement already satisfied: distro<2,>=1.7.0 in /home/codespace/.python/current/lib/python3.12/site-packages (from openai->-r /workspaces/PDF-OCR-RAG-Tool/requirements.txt (line 2)) (1.9.0)\n",
            "Requirement already satisfied: httpx<1,>=0.23.0 in /home/codespace/.local/lib/python3.12/site-packages (from openai->-r /workspaces/PDF-OCR-RAG-Tool/requirements.txt (line 2)) (0.28.1)\n",
            "Requirement already satisfied: jiter<1,>=0.4.0 in /home/codespace/.python/current/lib/python3.12/site-packages (from openai->-r /workspaces/PDF-OCR-RAG-Tool/requirements.txt (line 2)) (0.10.0)\n",
            "Requirement already satisfied: pydantic<3,>=1.9.0 in /home/codespace/.python/current/lib/python3.12/site-packages (from openai->-r /workspaces/PDF-OCR-RAG-Tool/requirements.txt (line 2)) (2.11.7)\n",
            "Requirement already satisfied: sniffio in /home/codespace/.local/lib/python3.12/site-packages (from openai->-r /workspaces/PDF-OCR-RAG-Tool/requirements.txt (line 2)) (1.3.1)\n",
            "Requirement already satisfied: tqdm>4 in /home/codespace/.python/current/lib/python3.12/site-packages (from openai->-r /workspaces/PDF-OCR-RAG-Tool/requirements.txt (line 2)) (4.67.1)\n",
            "Requirement already satisfied: httpcore==1.* in /home/codespace/.local/lib/python3.12/site-packages (from httpx<1,>=0.23.0->openai->-r /workspaces/PDF-OCR-RAG-Tool/requirements.txt (line 2)) (1.0.9)\n",
            "Requirement already satisfied: h11>=0.16 in /home/codespace/.local/lib/python3.12/site-packages (from httpcore==1.*->httpx<1,>=0.23.0->openai->-r /workspaces/PDF-OCR-RAG-Tool/requirements.txt (line 2)) (0.16.0)\n",
            "Requirement already satisfied: annotated-types>=0.6.0 in /home/codespace/.python/current/lib/python3.12/site-packages (from pydantic<3,>=1.9.0->openai->-r /workspaces/PDF-OCR-RAG-Tool/requirements.txt (line 2)) (0.7.0)\n",
            "Requirement already satisfied: pydantic-core==2.33.2 in /home/codespace/.python/current/lib/python3.12/site-packages (from pydantic<3,>=1.9.0->openai->-r /workspaces/PDF-OCR-RAG-Tool/requirements.txt (line 2)) (2.33.2)\n",
            "Requirement already satisfied: typing-inspection>=0.4.0 in /home/codespace/.python/current/lib/python3.12/site-packages (from pydantic<3,>=1.9.0->openai->-r /workspaces/PDF-OCR-RAG-Tool/requirements.txt (line 2)) (0.4.1)\n",
            "Requirement already satisfied: django in /home/codespace/.python/current/lib/python3.12/site-packages (from Image->-r /workspaces/PDF-OCR-RAG-Tool/requirements.txt (line 4)) (5.2.4)\n",
            "Requirement already satisfied: six in /home/codespace/.local/lib/python3.12/site-packages (from Image->-r /workspaces/PDF-OCR-RAG-Tool/requirements.txt (line 4)) (1.17.0)\n",
            "Requirement already satisfied: langchain-core<1.0.0,>=0.3.72 in /home/codespace/.python/current/lib/python3.12/site-packages (from langchain->-r /workspaces/PDF-OCR-RAG-Tool/requirements.txt (line 6)) (0.3.72)\n",
            "Requirement already satisfied: langchain-text-splitters<1.0.0,>=0.3.9 in /home/codespace/.python/current/lib/python3.12/site-packages (from langchain->-r /workspaces/PDF-OCR-RAG-Tool/requirements.txt (line 6)) (0.3.9)\n",
            "Requirement already satisfied: langsmith>=0.1.17 in /home/codespace/.python/current/lib/python3.12/site-packages (from langchain->-r /workspaces/PDF-OCR-RAG-Tool/requirements.txt (line 6)) (0.4.11)\n",
            "Requirement already satisfied: SQLAlchemy<3,>=1.4 in /home/codespace/.python/current/lib/python3.12/site-packages (from langchain->-r /workspaces/PDF-OCR-RAG-Tool/requirements.txt (line 6)) (2.0.42)\n",
            "Requirement already satisfied: PyYAML>=5.3 in /home/codespace/.local/lib/python3.12/site-packages (from langchain->-r /workspaces/PDF-OCR-RAG-Tool/requirements.txt (line 6)) (6.0.2)\n",
            "Requirement already satisfied: jsonpatch<2.0,>=1.33 in /home/codespace/.python/current/lib/python3.12/site-packages (from langchain-core<1.0.0,>=0.3.72->langchain->-r /workspaces/PDF-OCR-RAG-Tool/requirements.txt (line 6)) (1.33)\n",
            "Requirement already satisfied: jsonpointer>=1.9 in /home/codespace/.local/lib/python3.12/site-packages (from jsonpatch<2.0,>=1.33->langchain-core<1.0.0,>=0.3.72->langchain->-r /workspaces/PDF-OCR-RAG-Tool/requirements.txt (line 6)) (3.0.0)\n",
            "Requirement already satisfied: greenlet>=1 in /home/codespace/.python/current/lib/python3.12/site-packages (from SQLAlchemy<3,>=1.4->langchain->-r /workspaces/PDF-OCR-RAG-Tool/requirements.txt (line 6)) (3.2.3)\n",
            "Requirement already satisfied: regex>=2022.1.18 in /home/codespace/.python/current/lib/python3.12/site-packages (from tiktoken->-r /workspaces/PDF-OCR-RAG-Tool/requirements.txt (line 9)) (2025.7.34)\n",
            "Requirement already satisfied: build>=1.0.3 in /home/codespace/.python/current/lib/python3.12/site-packages (from chromadb->-r /workspaces/PDF-OCR-RAG-Tool/requirements.txt (line 12)) (1.3.0)\n",
            "Requirement already satisfied: pybase64>=1.4.1 in /home/codespace/.python/current/lib/python3.12/site-packages (from chromadb->-r /workspaces/PDF-OCR-RAG-Tool/requirements.txt (line 12)) (1.4.2)\n",
            "Requirement already satisfied: uvicorn>=0.18.3 in /home/codespace/.python/current/lib/python3.12/site-packages (from uvicorn[standard]>=0.18.3->chromadb->-r /workspaces/PDF-OCR-RAG-Tool/requirements.txt (line 12)) (0.35.0)\n",
            "Requirement already satisfied: posthog<6.0.0,>=2.4.0 in /home/codespace/.python/current/lib/python3.12/site-packages (from chromadb->-r /workspaces/PDF-OCR-RAG-Tool/requirements.txt (line 12)) (5.4.0)\n",
            "Requirement already satisfied: onnxruntime>=1.14.1 in /home/codespace/.python/current/lib/python3.12/site-packages (from chromadb->-r /workspaces/PDF-OCR-RAG-Tool/requirements.txt (line 12)) (1.22.1)\n",
            "Requirement already satisfied: opentelemetry-api>=1.2.0 in /home/codespace/.python/current/lib/python3.12/site-packages (from chromadb->-r /workspaces/PDF-OCR-RAG-Tool/requirements.txt (line 12)) (1.36.0)\n",
            "Requirement already satisfied: opentelemetry-exporter-otlp-proto-grpc>=1.2.0 in /home/codespace/.python/current/lib/python3.12/site-packages (from chromadb->-r /workspaces/PDF-OCR-RAG-Tool/requirements.txt (line 12)) (1.36.0)\n",
            "Requirement already satisfied: opentelemetry-sdk>=1.2.0 in /home/codespace/.python/current/lib/python3.12/site-packages (from chromadb->-r /workspaces/PDF-OCR-RAG-Tool/requirements.txt (line 12)) (1.36.0)\n",
            "Requirement already satisfied: tokenizers>=0.13.2 in /home/codespace/.python/current/lib/python3.12/site-packages (from chromadb->-r /workspaces/PDF-OCR-RAG-Tool/requirements.txt (line 12)) (0.21.4)\n",
            "Requirement already satisfied: pypika>=0.48.9 in /home/codespace/.python/current/lib/python3.12/site-packages (from chromadb->-r /workspaces/PDF-OCR-RAG-Tool/requirements.txt (line 12)) (0.48.9)\n",
            "Requirement already satisfied: overrides>=7.3.1 in /home/codespace/.local/lib/python3.12/site-packages (from chromadb->-r /workspaces/PDF-OCR-RAG-Tool/requirements.txt (line 12)) (7.7.0)\n",
            "Requirement already satisfied: importlib-resources in /home/codespace/.python/current/lib/python3.12/site-packages (from chromadb->-r /workspaces/PDF-OCR-RAG-Tool/requirements.txt (line 12)) (6.5.2)\n",
            "Requirement already satisfied: grpcio>=1.58.0 in /home/codespace/.python/current/lib/python3.12/site-packages (from chromadb->-r /workspaces/PDF-OCR-RAG-Tool/requirements.txt (line 12)) (1.74.0)\n",
            "Requirement already satisfied: bcrypt>=4.0.1 in /home/codespace/.python/current/lib/python3.12/site-packages (from chromadb->-r /workspaces/PDF-OCR-RAG-Tool/requirements.txt (line 12)) (4.3.0)\n",
            "Requirement already satisfied: typer>=0.9.0 in /home/codespace/.python/current/lib/python3.12/site-packages (from chromadb->-r /workspaces/PDF-OCR-RAG-Tool/requirements.txt (line 12)) (0.16.0)\n",
            "Requirement already satisfied: kubernetes>=28.1.0 in /home/codespace/.python/current/lib/python3.12/site-packages (from chromadb->-r /workspaces/PDF-OCR-RAG-Tool/requirements.txt (line 12)) (33.1.0)\n",
            "Requirement already satisfied: mmh3>=4.0.1 in /home/codespace/.python/current/lib/python3.12/site-packages (from chromadb->-r /workspaces/PDF-OCR-RAG-Tool/requirements.txt (line 12)) (5.2.0)\n",
            "Requirement already satisfied: orjson>=3.9.12 in /home/codespace/.python/current/lib/python3.12/site-packages (from chromadb->-r /workspaces/PDF-OCR-RAG-Tool/requirements.txt (line 12)) (3.11.1)\n",
            "Requirement already satisfied: rich>=10.11.0 in /home/codespace/.python/current/lib/python3.12/site-packages (from chromadb->-r /workspaces/PDF-OCR-RAG-Tool/requirements.txt (line 12)) (14.1.0)\n",
            "Requirement already satisfied: backoff>=1.10.0 in /home/codespace/.python/current/lib/python3.12/site-packages (from posthog<6.0.0,>=2.4.0->chromadb->-r /workspaces/PDF-OCR-RAG-Tool/requirements.txt (line 12)) (2.2.1)\n",
            "Requirement already satisfied: aiohttp<4.0.0,>=3.8.3 in /home/codespace/.python/current/lib/python3.12/site-packages (from langchain-community->-r /workspaces/PDF-OCR-RAG-Tool/requirements.txt (line 13)) (3.12.15)\n",
            "Requirement already satisfied: dataclasses-json<0.7,>=0.5.7 in /home/codespace/.python/current/lib/python3.12/site-packages (from langchain-community->-r /workspaces/PDF-OCR-RAG-Tool/requirements.txt (line 13)) (0.6.7)\n",
            "Requirement already satisfied: pydantic-settings<3.0.0,>=2.4.0 in /home/codespace/.python/current/lib/python3.12/site-packages (from langchain-community->-r /workspaces/PDF-OCR-RAG-Tool/requirements.txt (line 13)) (2.10.1)\n",
            "Requirement already satisfied: httpx-sse<1.0.0,>=0.4.0 in /home/codespace/.python/current/lib/python3.12/site-packages (from langchain-community->-r /workspaces/PDF-OCR-RAG-Tool/requirements.txt (line 13)) (0.4.1)\n",
            "Requirement already satisfied: aiohappyeyeballs>=2.5.0 in /home/codespace/.python/current/lib/python3.12/site-packages (from aiohttp<4.0.0,>=3.8.3->langchain-community->-r /workspaces/PDF-OCR-RAG-Tool/requirements.txt (line 13)) (2.6.1)\n",
            "Requirement already satisfied: aiosignal>=1.4.0 in /home/codespace/.python/current/lib/python3.12/site-packages (from aiohttp<4.0.0,>=3.8.3->langchain-community->-r /workspaces/PDF-OCR-RAG-Tool/requirements.txt (line 13)) (1.4.0)\n",
            "Requirement already satisfied: attrs>=17.3.0 in /home/codespace/.local/lib/python3.12/site-packages (from aiohttp<4.0.0,>=3.8.3->langchain-community->-r /workspaces/PDF-OCR-RAG-Tool/requirements.txt (line 13)) (25.3.0)\n",
            "Requirement already satisfied: frozenlist>=1.1.1 in /home/codespace/.python/current/lib/python3.12/site-packages (from aiohttp<4.0.0,>=3.8.3->langchain-community->-r /workspaces/PDF-OCR-RAG-Tool/requirements.txt (line 13)) (1.7.0)\n",
            "Requirement already satisfied: multidict<7.0,>=4.5 in /home/codespace/.python/current/lib/python3.12/site-packages (from aiohttp<4.0.0,>=3.8.3->langchain-community->-r /workspaces/PDF-OCR-RAG-Tool/requirements.txt (line 13)) (6.6.3)\n",
            "Requirement already satisfied: propcache>=0.2.0 in /home/codespace/.python/current/lib/python3.12/site-packages (from aiohttp<4.0.0,>=3.8.3->langchain-community->-r /workspaces/PDF-OCR-RAG-Tool/requirements.txt (line 13)) (0.3.2)\n",
            "Requirement already satisfied: yarl<2.0,>=1.17.0 in /home/codespace/.python/current/lib/python3.12/site-packages (from aiohttp<4.0.0,>=3.8.3->langchain-community->-r /workspaces/PDF-OCR-RAG-Tool/requirements.txt (line 13)) (1.20.1)\n",
            "Requirement already satisfied: marshmallow<4.0.0,>=3.18.0 in /home/codespace/.python/current/lib/python3.12/site-packages (from dataclasses-json<0.7,>=0.5.7->langchain-community->-r /workspaces/PDF-OCR-RAG-Tool/requirements.txt (line 13)) (3.26.1)\n",
            "Requirement already satisfied: typing-inspect<1,>=0.4.0 in /home/codespace/.python/current/lib/python3.12/site-packages (from dataclasses-json<0.7,>=0.5.7->langchain-community->-r /workspaces/PDF-OCR-RAG-Tool/requirements.txt (line 13)) (0.9.0)\n",
            "Requirement already satisfied: python-dotenv>=0.21.0 in /home/codespace/.python/current/lib/python3.12/site-packages (from pydantic-settings<3.0.0,>=2.4.0->langchain-community->-r /workspaces/PDF-OCR-RAG-Tool/requirements.txt (line 13)) (1.1.1)\n",
            "Requirement already satisfied: mypy-extensions>=0.3.0 in /home/codespace/.python/current/lib/python3.12/site-packages (from typing-inspect<1,>=0.4.0->dataclasses-json<0.7,>=0.5.7->langchain-community->-r /workspaces/PDF-OCR-RAG-Tool/requirements.txt (line 13)) (1.1.0)\n",
            "Requirement already satisfied: pyproject_hooks in /home/codespace/.python/current/lib/python3.12/site-packages (from build>=1.0.3->chromadb->-r /workspaces/PDF-OCR-RAG-Tool/requirements.txt (line 12)) (1.2.0)\n",
            "Requirement already satisfied: MarkupSafe>=2.0 in /home/codespace/.local/lib/python3.12/site-packages (from jinja2->altair<6,>=4.0->streamlit==1.47.1->-r /workspaces/PDF-OCR-RAG-Tool/requirements.txt (line 1)) (3.0.2)\n",
            "Requirement already satisfied: jsonschema-specifications>=2023.03.6 in /home/codespace/.local/lib/python3.12/site-packages (from jsonschema>=3.0->altair<6,>=4.0->streamlit==1.47.1->-r /workspaces/PDF-OCR-RAG-Tool/requirements.txt (line 1)) (2025.4.1)\n",
            "Requirement already satisfied: referencing>=0.28.4 in /home/codespace/.local/lib/python3.12/site-packages (from jsonschema>=3.0->altair<6,>=4.0->streamlit==1.47.1->-r /workspaces/PDF-OCR-RAG-Tool/requirements.txt (line 1)) (0.36.2)\n",
            "Requirement already satisfied: rpds-py>=0.7.1 in /home/codespace/.local/lib/python3.12/site-packages (from jsonschema>=3.0->altair<6,>=4.0->streamlit==1.47.1->-r /workspaces/PDF-OCR-RAG-Tool/requirements.txt (line 1)) (0.26.0)\n",
            "Requirement already satisfied: google-auth>=1.0.1 in /home/codespace/.python/current/lib/python3.12/site-packages (from kubernetes>=28.1.0->chromadb->-r /workspaces/PDF-OCR-RAG-Tool/requirements.txt (line 12)) (2.40.3)\n",
            "Requirement already satisfied: websocket-client!=0.40.0,!=0.41.*,!=0.42.*,>=0.32.0 in /home/codespace/.local/lib/python3.12/site-packages (from kubernetes>=28.1.0->chromadb->-r /workspaces/PDF-OCR-RAG-Tool/requirements.txt (line 12)) (1.8.0)\n",
            "Requirement already satisfied: requests-oauthlib in /home/codespace/.python/current/lib/python3.12/site-packages (from kubernetes>=28.1.0->chromadb->-r /workspaces/PDF-OCR-RAG-Tool/requirements.txt (line 12)) (2.0.0)\n",
            "Requirement already satisfied: oauthlib>=3.2.2 in /home/codespace/.python/current/lib/python3.12/site-packages (from kubernetes>=28.1.0->chromadb->-r /workspaces/PDF-OCR-RAG-Tool/requirements.txt (line 12)) (3.3.1)\n",
            "Requirement already satisfied: durationpy>=0.7 in /home/codespace/.python/current/lib/python3.12/site-packages (from kubernetes>=28.1.0->chromadb->-r /workspaces/PDF-OCR-RAG-Tool/requirements.txt (line 12)) (0.10)\n",
            "Requirement already satisfied: pyasn1-modules>=0.2.1 in /home/codespace/.python/current/lib/python3.12/site-packages (from google-auth>=1.0.1->kubernetes>=28.1.0->chromadb->-r /workspaces/PDF-OCR-RAG-Tool/requirements.txt (line 12)) (0.4.2)\n",
            "Requirement already satisfied: rsa<5,>=3.1.4 in /home/codespace/.python/current/lib/python3.12/site-packages (from google-auth>=1.0.1->kubernetes>=28.1.0->chromadb->-r /workspaces/PDF-OCR-RAG-Tool/requirements.txt (line 12)) (4.9.1)\n",
            "Requirement already satisfied: pyasn1>=0.1.3 in /home/codespace/.python/current/lib/python3.12/site-packages (from rsa<5,>=3.1.4->google-auth>=1.0.1->kubernetes>=28.1.0->chromadb->-r /workspaces/PDF-OCR-RAG-Tool/requirements.txt (line 12)) (0.6.1)\n",
            "Requirement already satisfied: requests-toolbelt>=1.0.0 in /home/codespace/.python/current/lib/python3.12/site-packages (from langsmith>=0.1.17->langchain->-r /workspaces/PDF-OCR-RAG-Tool/requirements.txt (line 6)) (1.0.0)\n",
            "Requirement already satisfied: zstandard>=0.23.0 in /home/codespace/.python/current/lib/python3.12/site-packages (from langsmith>=0.1.17->langchain->-r /workspaces/PDF-OCR-RAG-Tool/requirements.txt (line 6)) (0.23.0)\n",
            "Requirement already satisfied: coloredlogs in /home/codespace/.python/current/lib/python3.12/site-packages (from onnxruntime>=1.14.1->chromadb->-r /workspaces/PDF-OCR-RAG-Tool/requirements.txt (line 12)) (15.0.1)\n",
            "Requirement already satisfied: flatbuffers in /home/codespace/.python/current/lib/python3.12/site-packages (from onnxruntime>=1.14.1->chromadb->-r /workspaces/PDF-OCR-RAG-Tool/requirements.txt (line 12)) (25.2.10)\n",
            "Requirement already satisfied: sympy in /home/codespace/.local/lib/python3.12/site-packages (from onnxruntime>=1.14.1->chromadb->-r /workspaces/PDF-OCR-RAG-Tool/requirements.txt (line 12)) (1.13.3)\n",
            "Requirement already satisfied: importlib-metadata<8.8.0,>=6.0 in /home/codespace/.python/current/lib/python3.12/site-packages (from opentelemetry-api>=1.2.0->chromadb->-r /workspaces/PDF-OCR-RAG-Tool/requirements.txt (line 12)) (8.7.0)\n",
            "Requirement already satisfied: zipp>=3.20 in /home/codespace/.python/current/lib/python3.12/site-packages (from importlib-metadata<8.8.0,>=6.0->opentelemetry-api>=1.2.0->chromadb->-r /workspaces/PDF-OCR-RAG-Tool/requirements.txt (line 12)) (3.23.0)\n",
            "Requirement already satisfied: googleapis-common-protos~=1.57 in /home/codespace/.python/current/lib/python3.12/site-packages (from opentelemetry-exporter-otlp-proto-grpc>=1.2.0->chromadb->-r /workspaces/PDF-OCR-RAG-Tool/requirements.txt (line 12)) (1.70.0)\n",
            "Requirement already satisfied: opentelemetry-exporter-otlp-proto-common==1.36.0 in /home/codespace/.python/current/lib/python3.12/site-packages (from opentelemetry-exporter-otlp-proto-grpc>=1.2.0->chromadb->-r /workspaces/PDF-OCR-RAG-Tool/requirements.txt (line 12)) (1.36.0)\n",
            "Requirement already satisfied: opentelemetry-proto==1.36.0 in /home/codespace/.python/current/lib/python3.12/site-packages (from opentelemetry-exporter-otlp-proto-grpc>=1.2.0->chromadb->-r /workspaces/PDF-OCR-RAG-Tool/requirements.txt (line 12)) (1.36.0)\n",
            "Requirement already satisfied: opentelemetry-semantic-conventions==0.57b0 in /home/codespace/.python/current/lib/python3.12/site-packages (from opentelemetry-sdk>=1.2.0->chromadb->-r /workspaces/PDF-OCR-RAG-Tool/requirements.txt (line 12)) (0.57b0)\n",
            "Requirement already satisfied: markdown-it-py>=2.2.0 in /home/codespace/.python/current/lib/python3.12/site-packages (from rich>=10.11.0->chromadb->-r /workspaces/PDF-OCR-RAG-Tool/requirements.txt (line 12)) (3.0.0)\n",
            "Requirement already satisfied: pygments<3.0.0,>=2.13.0 in /home/codespace/.local/lib/python3.12/site-packages (from rich>=10.11.0->chromadb->-r /workspaces/PDF-OCR-RAG-Tool/requirements.txt (line 12)) (2.19.2)\n",
            "Requirement already satisfied: mdurl~=0.1 in /home/codespace/.python/current/lib/python3.12/site-packages (from markdown-it-py>=2.2.0->rich>=10.11.0->chromadb->-r /workspaces/PDF-OCR-RAG-Tool/requirements.txt (line 12)) (0.1.2)\n",
            "Requirement already satisfied: huggingface-hub<1.0,>=0.16.4 in /home/codespace/.python/current/lib/python3.12/site-packages (from tokenizers>=0.13.2->chromadb->-r /workspaces/PDF-OCR-RAG-Tool/requirements.txt (line 12)) (0.34.3)\n",
            "Requirement already satisfied: filelock in /home/codespace/.local/lib/python3.12/site-packages (from huggingface-hub<1.0,>=0.16.4->tokenizers>=0.13.2->chromadb->-r /workspaces/PDF-OCR-RAG-Tool/requirements.txt (line 12)) (3.13.1)\n",
            "Requirement already satisfied: fsspec>=2023.5.0 in /home/codespace/.local/lib/python3.12/site-packages (from huggingface-hub<1.0,>=0.16.4->tokenizers>=0.13.2->chromadb->-r /workspaces/PDF-OCR-RAG-Tool/requirements.txt (line 12)) (2024.6.1)\n",
            "Requirement already satisfied: hf-xet<2.0.0,>=1.1.3 in /home/codespace/.python/current/lib/python3.12/site-packages (from huggingface-hub<1.0,>=0.16.4->tokenizers>=0.13.2->chromadb->-r /workspaces/PDF-OCR-RAG-Tool/requirements.txt (line 12)) (1.1.5)\n",
            "Requirement already satisfied: shellingham>=1.3.0 in /home/codespace/.python/current/lib/python3.12/site-packages (from typer>=0.9.0->chromadb->-r /workspaces/PDF-OCR-RAG-Tool/requirements.txt (line 12)) (1.5.4)\n",
            "Requirement already satisfied: httptools>=0.6.3 in /home/codespace/.python/current/lib/python3.12/site-packages (from uvicorn[standard]>=0.18.3->chromadb->-r /workspaces/PDF-OCR-RAG-Tool/requirements.txt (line 12)) (0.6.4)\n",
            "Requirement already satisfied: uvloop>=0.15.1 in /home/codespace/.python/current/lib/python3.12/site-packages (from uvicorn[standard]>=0.18.3->chromadb->-r /workspaces/PDF-OCR-RAG-Tool/requirements.txt (line 12)) (0.21.0)\n",
            "Requirement already satisfied: watchfiles>=0.13 in /home/codespace/.python/current/lib/python3.12/site-packages (from uvicorn[standard]>=0.18.3->chromadb->-r /workspaces/PDF-OCR-RAG-Tool/requirements.txt (line 12)) (1.1.0)\n",
            "Requirement already satisfied: websockets>=10.4 in /home/codespace/.python/current/lib/python3.12/site-packages (from uvicorn[standard]>=0.18.3->chromadb->-r /workspaces/PDF-OCR-RAG-Tool/requirements.txt (line 12)) (15.0.1)\n",
            "Requirement already satisfied: humanfriendly>=9.1 in /home/codespace/.python/current/lib/python3.12/site-packages (from coloredlogs->onnxruntime>=1.14.1->chromadb->-r /workspaces/PDF-OCR-RAG-Tool/requirements.txt (line 12)) (10.0)\n",
            "Requirement already satisfied: asgiref>=3.8.1 in /home/codespace/.python/current/lib/python3.12/site-packages (from django->Image->-r /workspaces/PDF-OCR-RAG-Tool/requirements.txt (line 4)) (3.9.1)\n",
            "Requirement already satisfied: sqlparse>=0.3.1 in /home/codespace/.python/current/lib/python3.12/site-packages (from django->Image->-r /workspaces/PDF-OCR-RAG-Tool/requirements.txt (line 4)) (0.5.3)\n",
            "Requirement already satisfied: mpmath<1.4,>=1.1.0 in /home/codespace/.local/lib/python3.12/site-packages (from sympy->onnxruntime>=1.14.1->chromadb->-r /workspaces/PDF-OCR-RAG-Tool/requirements.txt (line 12)) (1.3.0)\n"
          ]
        }
      ],
      "source": [
        "!pip install -r /workspaces/PDF-OCR-RAG-Tool/requirements.txt"
      ]
    },
    {
      "cell_type": "code",
      "execution_count": 4,
      "metadata": {},
      "outputs": [
        {
          "name": "stdout",
          "output_type": "stream",
          "text": [
            "Requirement already satisfied: pip in /home/codespace/.python/current/lib/python3.12/site-packages (25.2)\n"
          ]
        }
      ],
      "source": [
        "!python3 -m pip install --upgrade pip"
      ]
    },
    {
      "cell_type": "code",
      "execution_count": 12,
      "metadata": {},
      "outputs": [
        {
          "name": "stdout",
          "output_type": "stream",
          "text": [
            "Requirement already satisfied: langchain-community in /usr/local/python/3.12.1/lib/python3.12/site-packages (0.3.27)\n",
            "Requirement already satisfied: langchain-core<1.0.0,>=0.3.66 in /usr/local/python/3.12.1/lib/python3.12/site-packages (from langchain-community) (0.3.72)\n",
            "Requirement already satisfied: langchain<1.0.0,>=0.3.26 in /usr/local/python/3.12.1/lib/python3.12/site-packages (from langchain-community) (0.3.27)\n",
            "Requirement already satisfied: SQLAlchemy<3,>=1.4 in /usr/local/python/3.12.1/lib/python3.12/site-packages (from langchain-community) (2.0.42)\n",
            "Requirement already satisfied: requests<3,>=2 in /home/codespace/.local/lib/python3.12/site-packages (from langchain-community) (2.32.4)\n",
            "Requirement already satisfied: PyYAML>=5.3 in /home/codespace/.local/lib/python3.12/site-packages (from langchain-community) (6.0.2)\n",
            "Requirement already satisfied: aiohttp<4.0.0,>=3.8.3 in /usr/local/python/3.12.1/lib/python3.12/site-packages (from langchain-community) (3.12.15)\n",
            "Requirement already satisfied: tenacity!=8.4.0,<10,>=8.1.0 in /usr/local/python/3.12.1/lib/python3.12/site-packages (from langchain-community) (9.1.2)\n",
            "Requirement already satisfied: dataclasses-json<0.7,>=0.5.7 in /usr/local/python/3.12.1/lib/python3.12/site-packages (from langchain-community) (0.6.7)\n",
            "Requirement already satisfied: pydantic-settings<3.0.0,>=2.4.0 in /usr/local/python/3.12.1/lib/python3.12/site-packages (from langchain-community) (2.10.1)\n",
            "Requirement already satisfied: langsmith>=0.1.125 in /usr/local/python/3.12.1/lib/python3.12/site-packages (from langchain-community) (0.4.11)\n",
            "Requirement already satisfied: httpx-sse<1.0.0,>=0.4.0 in /usr/local/python/3.12.1/lib/python3.12/site-packages (from langchain-community) (0.4.1)\n",
            "Requirement already satisfied: numpy>=1.26.2 in /home/codespace/.local/lib/python3.12/site-packages (from langchain-community) (2.3.1)\n",
            "Requirement already satisfied: aiohappyeyeballs>=2.5.0 in /usr/local/python/3.12.1/lib/python3.12/site-packages (from aiohttp<4.0.0,>=3.8.3->langchain-community) (2.6.1)\n",
            "Requirement already satisfied: aiosignal>=1.4.0 in /usr/local/python/3.12.1/lib/python3.12/site-packages (from aiohttp<4.0.0,>=3.8.3->langchain-community) (1.4.0)\n",
            "Requirement already satisfied: attrs>=17.3.0 in /home/codespace/.local/lib/python3.12/site-packages (from aiohttp<4.0.0,>=3.8.3->langchain-community) (25.3.0)\n",
            "Requirement already satisfied: frozenlist>=1.1.1 in /usr/local/python/3.12.1/lib/python3.12/site-packages (from aiohttp<4.0.0,>=3.8.3->langchain-community) (1.7.0)\n",
            "Requirement already satisfied: multidict<7.0,>=4.5 in /usr/local/python/3.12.1/lib/python3.12/site-packages (from aiohttp<4.0.0,>=3.8.3->langchain-community) (6.6.3)\n",
            "Requirement already satisfied: propcache>=0.2.0 in /usr/local/python/3.12.1/lib/python3.12/site-packages (from aiohttp<4.0.0,>=3.8.3->langchain-community) (0.3.2)\n",
            "Requirement already satisfied: yarl<2.0,>=1.17.0 in /usr/local/python/3.12.1/lib/python3.12/site-packages (from aiohttp<4.0.0,>=3.8.3->langchain-community) (1.20.1)\n",
            "Requirement already satisfied: marshmallow<4.0.0,>=3.18.0 in /usr/local/python/3.12.1/lib/python3.12/site-packages (from dataclasses-json<0.7,>=0.5.7->langchain-community) (3.26.1)\n",
            "Requirement already satisfied: typing-inspect<1,>=0.4.0 in /usr/local/python/3.12.1/lib/python3.12/site-packages (from dataclasses-json<0.7,>=0.5.7->langchain-community) (0.9.0)\n",
            "Requirement already satisfied: langchain-text-splitters<1.0.0,>=0.3.9 in /usr/local/python/3.12.1/lib/python3.12/site-packages (from langchain<1.0.0,>=0.3.26->langchain-community) (0.3.9)\n",
            "Requirement already satisfied: pydantic<3.0.0,>=2.7.4 in /usr/local/python/3.12.1/lib/python3.12/site-packages (from langchain<1.0.0,>=0.3.26->langchain-community) (2.11.7)\n",
            "Requirement already satisfied: jsonpatch<2.0,>=1.33 in /usr/local/python/3.12.1/lib/python3.12/site-packages (from langchain-core<1.0.0,>=0.3.66->langchain-community) (1.33)\n",
            "Requirement already satisfied: typing-extensions>=4.7 in /home/codespace/.local/lib/python3.12/site-packages (from langchain-core<1.0.0,>=0.3.66->langchain-community) (4.14.1)\n",
            "Requirement already satisfied: packaging>=23.2 in /home/codespace/.local/lib/python3.12/site-packages (from langchain-core<1.0.0,>=0.3.66->langchain-community) (25.0)\n",
            "Requirement already satisfied: jsonpointer>=1.9 in /home/codespace/.local/lib/python3.12/site-packages (from jsonpatch<2.0,>=1.33->langchain-core<1.0.0,>=0.3.66->langchain-community) (3.0.0)\n",
            "Requirement already satisfied: annotated-types>=0.6.0 in /usr/local/python/3.12.1/lib/python3.12/site-packages (from pydantic<3.0.0,>=2.7.4->langchain<1.0.0,>=0.3.26->langchain-community) (0.7.0)\n",
            "Requirement already satisfied: pydantic-core==2.33.2 in /usr/local/python/3.12.1/lib/python3.12/site-packages (from pydantic<3.0.0,>=2.7.4->langchain<1.0.0,>=0.3.26->langchain-community) (2.33.2)\n",
            "Requirement already satisfied: typing-inspection>=0.4.0 in /usr/local/python/3.12.1/lib/python3.12/site-packages (from pydantic<3.0.0,>=2.7.4->langchain<1.0.0,>=0.3.26->langchain-community) (0.4.1)\n",
            "Requirement already satisfied: python-dotenv>=0.21.0 in /usr/local/python/3.12.1/lib/python3.12/site-packages (from pydantic-settings<3.0.0,>=2.4.0->langchain-community) (1.1.1)\n",
            "Requirement already satisfied: charset_normalizer<4,>=2 in /home/codespace/.local/lib/python3.12/site-packages (from requests<3,>=2->langchain-community) (3.4.2)\n",
            "Requirement already satisfied: idna<4,>=2.5 in /home/codespace/.local/lib/python3.12/site-packages (from requests<3,>=2->langchain-community) (3.10)\n",
            "Requirement already satisfied: urllib3<3,>=1.21.1 in /home/codespace/.local/lib/python3.12/site-packages (from requests<3,>=2->langchain-community) (2.5.0)\n",
            "Requirement already satisfied: certifi>=2017.4.17 in /home/codespace/.local/lib/python3.12/site-packages (from requests<3,>=2->langchain-community) (2025.7.9)\n",
            "Requirement already satisfied: greenlet>=1 in /usr/local/python/3.12.1/lib/python3.12/site-packages (from SQLAlchemy<3,>=1.4->langchain-community) (3.2.3)\n",
            "Requirement already satisfied: mypy-extensions>=0.3.0 in /usr/local/python/3.12.1/lib/python3.12/site-packages (from typing-inspect<1,>=0.4.0->dataclasses-json<0.7,>=0.5.7->langchain-community) (1.1.0)\n",
            "Requirement already satisfied: httpx<1,>=0.23.0 in /home/codespace/.local/lib/python3.12/site-packages (from langsmith>=0.1.125->langchain-community) (0.28.1)\n",
            "Requirement already satisfied: orjson>=3.9.14 in /usr/local/python/3.12.1/lib/python3.12/site-packages (from langsmith>=0.1.125->langchain-community) (3.11.1)\n",
            "Requirement already satisfied: requests-toolbelt>=1.0.0 in /usr/local/python/3.12.1/lib/python3.12/site-packages (from langsmith>=0.1.125->langchain-community) (1.0.0)\n",
            "Requirement already satisfied: zstandard>=0.23.0 in /usr/local/python/3.12.1/lib/python3.12/site-packages (from langsmith>=0.1.125->langchain-community) (0.23.0)\n",
            "Requirement already satisfied: anyio in /home/codespace/.local/lib/python3.12/site-packages (from httpx<1,>=0.23.0->langsmith>=0.1.125->langchain-community) (4.9.0)\n",
            "Requirement already satisfied: httpcore==1.* in /home/codespace/.local/lib/python3.12/site-packages (from httpx<1,>=0.23.0->langsmith>=0.1.125->langchain-community) (1.0.9)\n",
            "Requirement already satisfied: h11>=0.16 in /home/codespace/.local/lib/python3.12/site-packages (from httpcore==1.*->httpx<1,>=0.23.0->langsmith>=0.1.125->langchain-community) (0.16.0)\n",
            "Requirement already satisfied: sniffio>=1.1 in /home/codespace/.local/lib/python3.12/site-packages (from anyio->httpx<1,>=0.23.0->langsmith>=0.1.125->langchain-community) (1.3.1)\n",
            "Note: you may need to restart the kernel to use updated packages.\n"
          ]
        }
      ],
      "source": [
        "%pip install -U langchain-community\n",
        "\n",
        "from langchain.vectorstores import Chroma\n",
        "from langchain.embeddings import OpenAIEmbeddings\n",
        "from langchain.document_loaders import PyPDFLoader\n",
        "from langchain.text_splitter import RecursiveCharacterTextSplitter\n",
        "from langchain.chains import RetrievalQA\n",
        "from langchain.llms import OpenAI   "
      ]
    },
    {
      "cell_type": "code",
      "execution_count": 4,
      "metadata": {},
      "outputs": [
        {
          "name": "stdout",
          "output_type": "stream",
          "text": [
            "/workspaces/PDF-OCR-RAG-Tool\n"
          ]
        }
      ],
      "source": [
        "import os\n",
        "\n",
        "print(os.getcwd())"
      ]
    },
    {
      "cell_type": "code",
      "execution_count": 5,
      "metadata": {
        "colab": {
          "base_uri": "https://localhost:8080/"
        },
        "id": "sfZxDgVEJquj",
        "outputId": "a65c1168-4529-4a63-e413-8cf66bdd0af2"
      },
      "outputs": [
        {
          "name": "stdout",
          "output_type": "stream",
          "text": [
            "E: Could not open lock file /var/lib/dpkg/lock-frontend - open (13: Permission denied)\n",
            "E: Unable to acquire the dpkg frontend lock (/var/lib/dpkg/lock-frontend), are you root?\n"
          ]
        }
      ],
      "source": [
        "!apt-get install poppler-utils"
      ]
    },
    {
      "cell_type": "code",
      "execution_count": null,
      "metadata": {},
      "outputs": [
        {
          "name": "stdout",
          "output_type": "stream",
          "text": [
            "Requirement already satisfied: langchain in /usr/local/python/3.12.1/lib/python3.12/site-packages (0.3.27)\n",
            "Collecting chromadb\n",
            "  Downloading chromadb-1.0.15-cp39-abi3-manylinux_2_17_x86_64.manylinux2014_x86_64.whl.metadata (7.0 kB)\n",
            "Requirement already satisfied: langchain-core<1.0.0,>=0.3.72 in /usr/local/python/3.12.1/lib/python3.12/site-packages (from langchain) (0.3.72)\n",
            "Requirement already satisfied: langchain-text-splitters<1.0.0,>=0.3.9 in /usr/local/python/3.12.1/lib/python3.12/site-packages (from langchain) (0.3.9)\n",
            "Requirement already satisfied: langsmith>=0.1.17 in /usr/local/python/3.12.1/lib/python3.12/site-packages (from langchain) (0.4.11)\n",
            "Requirement already satisfied: pydantic<3.0.0,>=2.7.4 in /usr/local/python/3.12.1/lib/python3.12/site-packages (from langchain) (2.11.7)\n",
            "Requirement already satisfied: SQLAlchemy<3,>=1.4 in /usr/local/python/3.12.1/lib/python3.12/site-packages (from langchain) (2.0.42)\n",
            "Requirement already satisfied: requests<3,>=2 in /home/codespace/.local/lib/python3.12/site-packages (from langchain) (2.32.4)\n",
            "Requirement already satisfied: PyYAML>=5.3 in /home/codespace/.local/lib/python3.12/site-packages (from langchain) (6.0.2)\n",
            "Requirement already satisfied: tenacity!=8.4.0,<10.0.0,>=8.1.0 in /usr/local/python/3.12.1/lib/python3.12/site-packages (from langchain-core<1.0.0,>=0.3.72->langchain) (9.1.2)\n",
            "Requirement already satisfied: jsonpatch<2.0,>=1.33 in /usr/local/python/3.12.1/lib/python3.12/site-packages (from langchain-core<1.0.0,>=0.3.72->langchain) (1.33)\n",
            "Requirement already satisfied: typing-extensions>=4.7 in /home/codespace/.local/lib/python3.12/site-packages (from langchain-core<1.0.0,>=0.3.72->langchain) (4.14.1)\n",
            "Requirement already satisfied: packaging>=23.2 in /home/codespace/.local/lib/python3.12/site-packages (from langchain-core<1.0.0,>=0.3.72->langchain) (25.0)\n",
            "Requirement already satisfied: jsonpointer>=1.9 in /home/codespace/.local/lib/python3.12/site-packages (from jsonpatch<2.0,>=1.33->langchain-core<1.0.0,>=0.3.72->langchain) (3.0.0)\n",
            "Requirement already satisfied: annotated-types>=0.6.0 in /usr/local/python/3.12.1/lib/python3.12/site-packages (from pydantic<3.0.0,>=2.7.4->langchain) (0.7.0)\n",
            "Requirement already satisfied: pydantic-core==2.33.2 in /usr/local/python/3.12.1/lib/python3.12/site-packages (from pydantic<3.0.0,>=2.7.4->langchain) (2.33.2)\n",
            "Requirement already satisfied: typing-inspection>=0.4.0 in /usr/local/python/3.12.1/lib/python3.12/site-packages (from pydantic<3.0.0,>=2.7.4->langchain) (0.4.1)\n",
            "Requirement already satisfied: charset_normalizer<4,>=2 in /home/codespace/.local/lib/python3.12/site-packages (from requests<3,>=2->langchain) (3.4.2)\n",
            "Requirement already satisfied: idna<4,>=2.5 in /home/codespace/.local/lib/python3.12/site-packages (from requests<3,>=2->langchain) (3.10)\n",
            "Requirement already satisfied: urllib3<3,>=1.21.1 in /home/codespace/.local/lib/python3.12/site-packages (from requests<3,>=2->langchain) (2.5.0)\n",
            "Requirement already satisfied: certifi>=2017.4.17 in /home/codespace/.local/lib/python3.12/site-packages (from requests<3,>=2->langchain) (2025.7.9)\n",
            "Requirement already satisfied: greenlet>=1 in /usr/local/python/3.12.1/lib/python3.12/site-packages (from SQLAlchemy<3,>=1.4->langchain) (3.2.3)\n",
            "Collecting build>=1.0.3 (from chromadb)\n",
            "  Downloading build-1.3.0-py3-none-any.whl.metadata (5.6 kB)\n",
            "Collecting pybase64>=1.4.1 (from chromadb)\n",
            "  Downloading pybase64-1.4.2-cp312-cp312-manylinux1_x86_64.manylinux2014_x86_64.manylinux_2_17_x86_64.manylinux_2_5_x86_64.whl.metadata (8.7 kB)\n",
            "Collecting uvicorn>=0.18.3 (from uvicorn[standard]>=0.18.3->chromadb)\n",
            "  Downloading uvicorn-0.35.0-py3-none-any.whl.metadata (6.5 kB)\n",
            "Requirement already satisfied: numpy>=1.22.5 in /home/codespace/.local/lib/python3.12/site-packages (from chromadb) (2.3.1)\n",
            "Collecting posthog<6.0.0,>=2.4.0 (from chromadb)\n",
            "  Downloading posthog-5.4.0-py3-none-any.whl.metadata (5.7 kB)\n",
            "Collecting onnxruntime>=1.14.1 (from chromadb)\n",
            "  Downloading onnxruntime-1.22.1-cp312-cp312-manylinux_2_27_x86_64.manylinux_2_28_x86_64.whl.metadata (4.9 kB)\n",
            "Collecting opentelemetry-api>=1.2.0 (from chromadb)\n",
            "  Downloading opentelemetry_api-1.36.0-py3-none-any.whl.metadata (1.5 kB)\n",
            "Collecting opentelemetry-exporter-otlp-proto-grpc>=1.2.0 (from chromadb)\n",
            "  Downloading opentelemetry_exporter_otlp_proto_grpc-1.36.0-py3-none-any.whl.metadata (2.4 kB)\n",
            "Collecting opentelemetry-sdk>=1.2.0 (from chromadb)\n",
            "  Downloading opentelemetry_sdk-1.36.0-py3-none-any.whl.metadata (1.5 kB)\n",
            "Collecting tokenizers>=0.13.2 (from chromadb)\n",
            "  Downloading tokenizers-0.21.4-cp39-abi3-manylinux_2_17_x86_64.manylinux2014_x86_64.whl.metadata (6.7 kB)\n",
            "Collecting pypika>=0.48.9 (from chromadb)\n",
            "  Downloading PyPika-0.48.9.tar.gz (67 kB)\n",
            "  Installing build dependencies ... \u001b[?25ldone\n",
            "\u001b[?25h  Getting requirements to build wheel ... \u001b[?25ldone\n",
            "\u001b[?25h  Preparing metadata (pyproject.toml) ... \u001b[?25ldone\n",
            "\u001b[?25hRequirement already satisfied: tqdm>=4.65.0 in /usr/local/python/3.12.1/lib/python3.12/site-packages (from chromadb) (4.67.1)\n",
            "Requirement already satisfied: overrides>=7.3.1 in /home/codespace/.local/lib/python3.12/site-packages (from chromadb) (7.7.0)\n",
            "Collecting importlib-resources (from chromadb)\n",
            "  Downloading importlib_resources-6.5.2-py3-none-any.whl.metadata (3.9 kB)\n",
            "Collecting grpcio>=1.58.0 (from chromadb)\n",
            "  Downloading grpcio-1.74.0-cp312-cp312-manylinux_2_17_x86_64.manylinux2014_x86_64.whl.metadata (3.8 kB)\n",
            "Collecting bcrypt>=4.0.1 (from chromadb)\n",
            "  Downloading bcrypt-4.3.0-cp39-abi3-manylinux_2_34_x86_64.whl.metadata (10 kB)\n",
            "Collecting typer>=0.9.0 (from chromadb)\n",
            "  Downloading typer-0.16.0-py3-none-any.whl.metadata (15 kB)\n",
            "Collecting kubernetes>=28.1.0 (from chromadb)\n",
            "  Downloading kubernetes-33.1.0-py2.py3-none-any.whl.metadata (1.7 kB)\n",
            "Collecting mmh3>=4.0.1 (from chromadb)\n",
            "  Downloading mmh3-5.2.0-cp312-cp312-manylinux1_x86_64.manylinux_2_28_x86_64.manylinux_2_5_x86_64.whl.metadata (14 kB)\n",
            "Requirement already satisfied: orjson>=3.9.12 in /usr/local/python/3.12.1/lib/python3.12/site-packages (from chromadb) (3.11.1)\n",
            "Requirement already satisfied: httpx>=0.27.0 in /home/codespace/.local/lib/python3.12/site-packages (from chromadb) (0.28.1)\n",
            "Collecting rich>=10.11.0 (from chromadb)\n",
            "  Downloading rich-14.1.0-py3-none-any.whl.metadata (18 kB)\n",
            "Requirement already satisfied: jsonschema>=4.19.0 in /home/codespace/.local/lib/python3.12/site-packages (from chromadb) (4.24.0)\n",
            "Requirement already satisfied: six>=1.5 in /home/codespace/.local/lib/python3.12/site-packages (from posthog<6.0.0,>=2.4.0->chromadb) (1.17.0)\n",
            "Requirement already satisfied: python-dateutil>=2.2 in /home/codespace/.local/lib/python3.12/site-packages (from posthog<6.0.0,>=2.4.0->chromadb) (2.9.0.post0)\n",
            "Collecting backoff>=1.10.0 (from posthog<6.0.0,>=2.4.0->chromadb)\n",
            "  Downloading backoff-2.2.1-py3-none-any.whl.metadata (14 kB)\n",
            "Requirement already satisfied: distro>=1.5.0 in /usr/local/python/3.12.1/lib/python3.12/site-packages (from posthog<6.0.0,>=2.4.0->chromadb) (1.9.0)\n",
            "Collecting pyproject_hooks (from build>=1.0.3->chromadb)\n",
            "  Downloading pyproject_hooks-1.2.0-py3-none-any.whl.metadata (1.3 kB)\n",
            "Requirement already satisfied: anyio in /home/codespace/.local/lib/python3.12/site-packages (from httpx>=0.27.0->chromadb) (4.9.0)\n",
            "Requirement already satisfied: httpcore==1.* in /home/codespace/.local/lib/python3.12/site-packages (from httpx>=0.27.0->chromadb) (1.0.9)\n",
            "Requirement already satisfied: h11>=0.16 in /home/codespace/.local/lib/python3.12/site-packages (from httpcore==1.*->httpx>=0.27.0->chromadb) (0.16.0)\n",
            "Requirement already satisfied: attrs>=22.2.0 in /home/codespace/.local/lib/python3.12/site-packages (from jsonschema>=4.19.0->chromadb) (25.3.0)\n",
            "Requirement already satisfied: jsonschema-specifications>=2023.03.6 in /home/codespace/.local/lib/python3.12/site-packages (from jsonschema>=4.19.0->chromadb) (2025.4.1)\n",
            "Requirement already satisfied: referencing>=0.28.4 in /home/codespace/.local/lib/python3.12/site-packages (from jsonschema>=4.19.0->chromadb) (0.36.2)\n",
            "Requirement already satisfied: rpds-py>=0.7.1 in /home/codespace/.local/lib/python3.12/site-packages (from jsonschema>=4.19.0->chromadb) (0.26.0)\n",
            "Collecting google-auth>=1.0.1 (from kubernetes>=28.1.0->chromadb)\n",
            "  Downloading google_auth-2.40.3-py2.py3-none-any.whl.metadata (6.2 kB)\n",
            "Requirement already satisfied: websocket-client!=0.40.0,!=0.41.*,!=0.42.*,>=0.32.0 in /home/codespace/.local/lib/python3.12/site-packages (from kubernetes>=28.1.0->chromadb) (1.8.0)\n",
            "Collecting requests-oauthlib (from kubernetes>=28.1.0->chromadb)\n",
            "  Downloading requests_oauthlib-2.0.0-py2.py3-none-any.whl.metadata (11 kB)\n",
            "Collecting oauthlib>=3.2.2 (from kubernetes>=28.1.0->chromadb)\n",
            "  Downloading oauthlib-3.3.1-py3-none-any.whl.metadata (7.9 kB)\n",
            "Collecting durationpy>=0.7 (from kubernetes>=28.1.0->chromadb)\n",
            "  Downloading durationpy-0.10-py3-none-any.whl.metadata (340 bytes)\n",
            "Collecting cachetools<6.0,>=2.0.0 (from google-auth>=1.0.1->kubernetes>=28.1.0->chromadb)\n",
            "  Downloading cachetools-5.5.2-py3-none-any.whl.metadata (5.4 kB)\n",
            "Collecting pyasn1-modules>=0.2.1 (from google-auth>=1.0.1->kubernetes>=28.1.0->chromadb)\n",
            "  Downloading pyasn1_modules-0.4.2-py3-none-any.whl.metadata (3.5 kB)\n",
            "Collecting rsa<5,>=3.1.4 (from google-auth>=1.0.1->kubernetes>=28.1.0->chromadb)\n",
            "  Downloading rsa-4.9.1-py3-none-any.whl.metadata (5.6 kB)\n",
            "Collecting pyasn1>=0.1.3 (from rsa<5,>=3.1.4->google-auth>=1.0.1->kubernetes>=28.1.0->chromadb)\n",
            "  Downloading pyasn1-0.6.1-py3-none-any.whl.metadata (8.4 kB)\n",
            "Requirement already satisfied: requests-toolbelt>=1.0.0 in /usr/local/python/3.12.1/lib/python3.12/site-packages (from langsmith>=0.1.17->langchain) (1.0.0)\n",
            "Requirement already satisfied: zstandard>=0.23.0 in /usr/local/python/3.12.1/lib/python3.12/site-packages (from langsmith>=0.1.17->langchain) (0.23.0)\n",
            "Collecting coloredlogs (from onnxruntime>=1.14.1->chromadb)\n",
            "  Downloading coloredlogs-15.0.1-py2.py3-none-any.whl.metadata (12 kB)\n",
            "Collecting flatbuffers (from onnxruntime>=1.14.1->chromadb)\n",
            "  Downloading flatbuffers-25.2.10-py2.py3-none-any.whl.metadata (875 bytes)\n",
            "Requirement already satisfied: protobuf in /usr/local/python/3.12.1/lib/python3.12/site-packages (from onnxruntime>=1.14.1->chromadb) (6.31.1)\n",
            "Requirement already satisfied: sympy in /home/codespace/.local/lib/python3.12/site-packages (from onnxruntime>=1.14.1->chromadb) (1.13.3)\n",
            "Collecting importlib-metadata<8.8.0,>=6.0 (from opentelemetry-api>=1.2.0->chromadb)\n",
            "  Downloading importlib_metadata-8.7.0-py3-none-any.whl.metadata (4.8 kB)\n",
            "Collecting zipp>=3.20 (from importlib-metadata<8.8.0,>=6.0->opentelemetry-api>=1.2.0->chromadb)\n",
            "  Downloading zipp-3.23.0-py3-none-any.whl.metadata (3.6 kB)\n",
            "Collecting googleapis-common-protos~=1.57 (from opentelemetry-exporter-otlp-proto-grpc>=1.2.0->chromadb)\n",
            "  Downloading googleapis_common_protos-1.70.0-py3-none-any.whl.metadata (9.3 kB)\n",
            "Collecting opentelemetry-exporter-otlp-proto-common==1.36.0 (from opentelemetry-exporter-otlp-proto-grpc>=1.2.0->chromadb)\n",
            "  Downloading opentelemetry_exporter_otlp_proto_common-1.36.0-py3-none-any.whl.metadata (1.8 kB)\n",
            "Collecting opentelemetry-proto==1.36.0 (from opentelemetry-exporter-otlp-proto-grpc>=1.2.0->chromadb)\n",
            "  Downloading opentelemetry_proto-1.36.0-py3-none-any.whl.metadata (2.3 kB)\n",
            "Collecting opentelemetry-semantic-conventions==0.57b0 (from opentelemetry-sdk>=1.2.0->chromadb)\n",
            "  Downloading opentelemetry_semantic_conventions-0.57b0-py3-none-any.whl.metadata (2.4 kB)\n",
            "Collecting markdown-it-py>=2.2.0 (from rich>=10.11.0->chromadb)\n",
            "  Downloading markdown_it_py-3.0.0-py3-none-any.whl.metadata (6.9 kB)\n",
            "Requirement already satisfied: pygments<3.0.0,>=2.13.0 in /home/codespace/.local/lib/python3.12/site-packages (from rich>=10.11.0->chromadb) (2.19.2)\n",
            "Collecting mdurl~=0.1 (from markdown-it-py>=2.2.0->rich>=10.11.0->chromadb)\n",
            "  Downloading mdurl-0.1.2-py3-none-any.whl.metadata (1.6 kB)\n",
            "Collecting huggingface-hub<1.0,>=0.16.4 (from tokenizers>=0.13.2->chromadb)\n",
            "  Downloading huggingface_hub-0.34.3-py3-none-any.whl.metadata (14 kB)\n",
            "Requirement already satisfied: filelock in /home/codespace/.local/lib/python3.12/site-packages (from huggingface-hub<1.0,>=0.16.4->tokenizers>=0.13.2->chromadb) (3.13.1)\n",
            "Requirement already satisfied: fsspec>=2023.5.0 in /home/codespace/.local/lib/python3.12/site-packages (from huggingface-hub<1.0,>=0.16.4->tokenizers>=0.13.2->chromadb) (2024.6.1)\n",
            "Collecting hf-xet<2.0.0,>=1.1.3 (from huggingface-hub<1.0,>=0.16.4->tokenizers>=0.13.2->chromadb)\n",
            "  Downloading hf_xet-1.1.5-cp37-abi3-manylinux_2_17_x86_64.manylinux2014_x86_64.whl.metadata (879 bytes)\n",
            "Requirement already satisfied: click>=8.0.0 in /usr/local/python/3.12.1/lib/python3.12/site-packages (from typer>=0.9.0->chromadb) (8.2.1)\n",
            "Collecting shellingham>=1.3.0 (from typer>=0.9.0->chromadb)\n",
            "  Downloading shellingham-1.5.4-py2.py3-none-any.whl.metadata (3.5 kB)\n",
            "Collecting httptools>=0.6.3 (from uvicorn[standard]>=0.18.3->chromadb)\n",
            "  Downloading httptools-0.6.4-cp312-cp312-manylinux_2_5_x86_64.manylinux1_x86_64.manylinux_2_17_x86_64.manylinux2014_x86_64.whl.metadata (3.6 kB)\n",
            "Requirement already satisfied: python-dotenv>=0.13 in /usr/local/python/3.12.1/lib/python3.12/site-packages (from uvicorn[standard]>=0.18.3->chromadb) (1.1.1)\n",
            "Collecting uvloop>=0.15.1 (from uvicorn[standard]>=0.18.3->chromadb)\n",
            "  Downloading uvloop-0.21.0-cp312-cp312-manylinux_2_17_x86_64.manylinux2014_x86_64.whl.metadata (4.9 kB)\n",
            "Collecting watchfiles>=0.13 (from uvicorn[standard]>=0.18.3->chromadb)\n",
            "  Downloading watchfiles-1.1.0-cp312-cp312-manylinux_2_17_x86_64.manylinux2014_x86_64.whl.metadata (4.9 kB)\n",
            "Collecting websockets>=10.4 (from uvicorn[standard]>=0.18.3->chromadb)\n",
            "  Downloading websockets-15.0.1-cp312-cp312-manylinux_2_5_x86_64.manylinux1_x86_64.manylinux_2_17_x86_64.manylinux2014_x86_64.whl.metadata (6.8 kB)\n",
            "Requirement already satisfied: sniffio>=1.1 in /home/codespace/.local/lib/python3.12/site-packages (from anyio->httpx>=0.27.0->chromadb) (1.3.1)\n",
            "Collecting humanfriendly>=9.1 (from coloredlogs->onnxruntime>=1.14.1->chromadb)\n",
            "  Downloading humanfriendly-10.0-py2.py3-none-any.whl.metadata (9.2 kB)\n",
            "Requirement already satisfied: mpmath<1.4,>=1.1.0 in /home/codespace/.local/lib/python3.12/site-packages (from sympy->onnxruntime>=1.14.1->chromadb) (1.3.0)\n",
            "Downloading chromadb-1.0.15-cp39-abi3-manylinux_2_17_x86_64.manylinux2014_x86_64.whl (19.5 MB)\n",
            "\u001b[2K   \u001b[90m━━━━━━━━━━━━━━━━━━━━━━━━━━━━━━━━━━━━━━━━\u001b[0m \u001b[32m19.5/19.5 MB\u001b[0m \u001b[31m52.4 MB/s\u001b[0m  \u001b[33m0:00:00\u001b[0m6m0:00:01\u001b[0m\n",
            "\u001b[?25hDownloading posthog-5.4.0-py3-none-any.whl (105 kB)\n",
            "Downloading backoff-2.2.1-py3-none-any.whl (15 kB)\n",
            "Downloading bcrypt-4.3.0-cp39-abi3-manylinux_2_34_x86_64.whl (284 kB)\n",
            "Downloading build-1.3.0-py3-none-any.whl (23 kB)\n",
            "Downloading grpcio-1.74.0-cp312-cp312-manylinux_2_17_x86_64.manylinux2014_x86_64.whl (6.2 MB)\n",
            "\u001b[2K   \u001b[90m━━━━━━━━━━━━━━━━━━━━━━━━━━━━━━━━━━━━━━━━\u001b[0m \u001b[32m6.2/6.2 MB\u001b[0m \u001b[31m56.2 MB/s\u001b[0m  \u001b[33m0:00:00\u001b[0m\n",
            "\u001b[?25hDownloading kubernetes-33.1.0-py2.py3-none-any.whl (1.9 MB)\n",
            "\u001b[2K   \u001b[90m━━━━━━━━━━━━━━━━━━━━━━━━━━━━━━━━━━━━━━━━\u001b[0m \u001b[32m1.9/1.9 MB\u001b[0m \u001b[31m46.5 MB/s\u001b[0m  \u001b[33m0:00:00\u001b[0m\n",
            "\u001b[?25hDownloading durationpy-0.10-py3-none-any.whl (3.9 kB)\n",
            "Downloading google_auth-2.40.3-py2.py3-none-any.whl (216 kB)\n",
            "Downloading cachetools-5.5.2-py3-none-any.whl (10 kB)\n",
            "Downloading rsa-4.9.1-py3-none-any.whl (34 kB)\n",
            "Downloading mmh3-5.2.0-cp312-cp312-manylinux1_x86_64.manylinux_2_28_x86_64.manylinux_2_5_x86_64.whl (103 kB)\n",
            "Downloading oauthlib-3.3.1-py3-none-any.whl (160 kB)\n",
            "Downloading onnxruntime-1.22.1-cp312-cp312-manylinux_2_27_x86_64.manylinux_2_28_x86_64.whl (16.5 MB)\n",
            "\u001b[2K   \u001b[90m━━━━━━━━━━━━━━━━━━━━━━━━━━━━━━━━━━━━━━━━\u001b[0m \u001b[32m16.5/16.5 MB\u001b[0m \u001b[31m50.0 MB/s\u001b[0m  \u001b[33m0:00:00\u001b[0m6m0:00:01\u001b[0m\n",
            "\u001b[?25hDownloading opentelemetry_api-1.36.0-py3-none-any.whl (65 kB)\n",
            "Downloading importlib_metadata-8.7.0-py3-none-any.whl (27 kB)\n",
            "Downloading opentelemetry_exporter_otlp_proto_grpc-1.36.0-py3-none-any.whl (18 kB)\n",
            "Downloading opentelemetry_exporter_otlp_proto_common-1.36.0-py3-none-any.whl (18 kB)\n",
            "Downloading opentelemetry_proto-1.36.0-py3-none-any.whl (72 kB)\n",
            "Downloading googleapis_common_protos-1.70.0-py3-none-any.whl (294 kB)\n",
            "Downloading opentelemetry_sdk-1.36.0-py3-none-any.whl (119 kB)\n",
            "Downloading opentelemetry_semantic_conventions-0.57b0-py3-none-any.whl (201 kB)\n",
            "Downloading pyasn1-0.6.1-py3-none-any.whl (83 kB)\n",
            "Downloading pyasn1_modules-0.4.2-py3-none-any.whl (181 kB)\n",
            "Downloading pybase64-1.4.2-cp312-cp312-manylinux1_x86_64.manylinux2014_x86_64.manylinux_2_17_x86_64.manylinux_2_5_x86_64.whl (71 kB)\n",
            "Downloading rich-14.1.0-py3-none-any.whl (243 kB)\n",
            "Downloading markdown_it_py-3.0.0-py3-none-any.whl (87 kB)\n",
            "Downloading mdurl-0.1.2-py3-none-any.whl (10.0 kB)\n",
            "Downloading tokenizers-0.21.4-cp39-abi3-manylinux_2_17_x86_64.manylinux2014_x86_64.whl (3.1 MB)\n",
            "\u001b[2K   \u001b[90m━━━━━━━━━━━━━━━━━━━━━━━━━━━━━━━━━━━━━━━━\u001b[0m \u001b[32m3.1/3.1 MB\u001b[0m \u001b[31m56.9 MB/s\u001b[0m  \u001b[33m0:00:00\u001b[0m\n",
            "\u001b[?25hDownloading huggingface_hub-0.34.3-py3-none-any.whl (558 kB)\n",
            "\u001b[2K   \u001b[90m━━━━━━━━━━━━━━━━━━━━━━━━━━━━━━━━━━━━━━━━\u001b[0m \u001b[32m558.8/558.8 kB\u001b[0m \u001b[31m30.8 MB/s\u001b[0m  \u001b[33m0:00:00\u001b[0m\n",
            "\u001b[?25hDownloading hf_xet-1.1.5-cp37-abi3-manylinux_2_17_x86_64.manylinux2014_x86_64.whl (3.1 MB)\n",
            "\u001b[2K   \u001b[90m━━━━━━━━━━━━━━━━━━━━━━━━━━━━━━━━━━━━━━━━\u001b[0m \u001b[32m3.1/3.1 MB\u001b[0m \u001b[31m43.8 MB/s\u001b[0m  \u001b[33m0:00:00\u001b[0m\n",
            "\u001b[?25hDownloading typer-0.16.0-py3-none-any.whl (46 kB)\n",
            "Downloading shellingham-1.5.4-py2.py3-none-any.whl (9.8 kB)\n",
            "Downloading uvicorn-0.35.0-py3-none-any.whl (66 kB)\n",
            "Downloading httptools-0.6.4-cp312-cp312-manylinux_2_5_x86_64.manylinux1_x86_64.manylinux_2_17_x86_64.manylinux2014_x86_64.whl (510 kB)\n",
            "Downloading uvloop-0.21.0-cp312-cp312-manylinux_2_17_x86_64.manylinux2014_x86_64.whl (4.7 MB)\n",
            "\u001b[2K   \u001b[90m━━━━━━━━━━━━━━━━━━━━━━━━━━━━━━━━━━━━━━━━\u001b[0m \u001b[32m4.7/4.7 MB\u001b[0m \u001b[31m70.6 MB/s\u001b[0m  \u001b[33m0:00:00\u001b[0m\n",
            "\u001b[?25hDownloading watchfiles-1.1.0-cp312-cp312-manylinux_2_17_x86_64.manylinux2014_x86_64.whl (452 kB)\n",
            "Downloading websockets-15.0.1-cp312-cp312-manylinux_2_5_x86_64.manylinux1_x86_64.manylinux_2_17_x86_64.manylinux2014_x86_64.whl (182 kB)\n",
            "Downloading zipp-3.23.0-py3-none-any.whl (10 kB)\n",
            "Downloading coloredlogs-15.0.1-py2.py3-none-any.whl (46 kB)\n",
            "Downloading humanfriendly-10.0-py2.py3-none-any.whl (86 kB)\n",
            "Downloading flatbuffers-25.2.10-py2.py3-none-any.whl (30 kB)\n",
            "Downloading importlib_resources-6.5.2-py3-none-any.whl (37 kB)\n",
            "Downloading pyproject_hooks-1.2.0-py3-none-any.whl (10 kB)\n",
            "Downloading requests_oauthlib-2.0.0-py2.py3-none-any.whl (24 kB)\n",
            "Building wheels for collected packages: pypika\n",
            "  Building wheel for pypika (pyproject.toml) ... \u001b[?25ldone\n",
            "\u001b[?25h  Created wheel for pypika: filename=pypika-0.48.9-py2.py3-none-any.whl size=53803 sha256=ef9629663b384288011f5bdc1caaeccf3db15a61965faa96883b4a5d91deb323\n",
            "  Stored in directory: /home/codespace/.cache/pip/wheels/d5/3d/69/8d68d249cd3de2584f226e27fd431d6344f7d70fd856ebd01b\n",
            "Successfully built pypika\n",
            "Installing collected packages: pypika, flatbuffers, durationpy, zipp, websockets, uvloop, uvicorn, shellingham, pyproject_hooks, pybase64, pyasn1, opentelemetry-proto, oauthlib, mmh3, mdurl, importlib-resources, humanfriendly, httptools, hf-xet, grpcio, googleapis-common-protos, cachetools, bcrypt, backoff, watchfiles, rsa, requests-oauthlib, pyasn1-modules, posthog, opentelemetry-exporter-otlp-proto-common, markdown-it-py, importlib-metadata, huggingface-hub, coloredlogs, build, tokenizers, rich, opentelemetry-api, onnxruntime, google-auth, typer, opentelemetry-semantic-conventions, kubernetes, opentelemetry-sdk, opentelemetry-exporter-otlp-proto-grpc, chromadb\n",
            "\u001b[2K   \u001b[91m━━━\u001b[0m\u001b[90m╺\u001b[0m\u001b[90m━━━━━━━━━━━━━━━━━━━━━━━━━━━━━━━━━━━━\u001b[0m \u001b[32m 4/46\u001b[0m [websockets]\u001b[33m  WARNING: The script websockets is installed in '/usr/local/python/3.12.1/bin' which is not on PATH.\n",
            "  Consider adding this directory to PATH or, if you prefer to suppress this warning, use --no-warn-script-location.\u001b[0m\u001b[33m\n",
            "\u001b[2K   \u001b[91m━━━━\u001b[0m\u001b[90m╺\u001b[0m\u001b[90m━━━━━━━━━━━━━━━━━━━━━━━━━━━━━━━━━━━\u001b[0m \u001b[32m 5/46\u001b[0m [uvloop]\u001b[33m  WARNING: The script uvicorn is installed in '/usr/local/python/3.12.1/bin' which is not on PATH.\n",
            "  Consider adding this directory to PATH or, if you prefer to suppress this warning, use --no-warn-script-location.\u001b[0m\u001b[33m\n",
            "\u001b[0m\u001b[33m  WARNING: The script pybase64 is installed in '/usr/local/python/3.12.1/bin' which is not on PATH.\n",
            "  Consider adding this directory to PATH or, if you prefer to suppress this warning, use --no-warn-script-location.\u001b[0m\u001b[33m\n",
            "\u001b[2K   \u001b[91m━━━━━━━━━━━━━\u001b[0m\u001b[90m╺\u001b[0m\u001b[90m━━━━━━━━━━━━━━━━━━━━━━━━━━\u001b[0m \u001b[32m15/46\u001b[0m [importlib-resources]\u001b[33m  WARNING: The script humanfriendly is installed in '/usr/local/python/3.12.1/bin' which is not on PATH.\n",
            "  Consider adding this directory to PATH or, if you prefer to suppress this warning, use --no-warn-script-location.\u001b[0m\u001b[33m\n",
            "\u001b[2K  Attempting uninstall: cachetools\u001b[0m\u001b[90m━━━━━━━━━━━━━━━━━━━━━━━\u001b[0m \u001b[32m19/46\u001b[0m [grpcio]\n",
            "\u001b[2K    Found existing installation: cachetools 6.1.0━━━━━━━━━━━━━\u001b[0m \u001b[32m19/46\u001b[0m [grpcio]\n",
            "\u001b[2K    Uninstalling cachetools-6.1.0:\u001b[90m━━━━━━━━━━━━━━━━━━━━━━━\u001b[0m \u001b[32m19/46\u001b[0m [grpcio]\n",
            "\u001b[2K      Successfully uninstalled cachetools-6.1.0━━━━━━━━━━━━━━━\u001b[0m \u001b[32m19/46\u001b[0m [grpcio]\n",
            "\u001b[2K   \u001b[91m━━━━━━━━━━━━━━━━━━━\u001b[0m\u001b[90m╺\u001b[0m\u001b[90m━━━━━━━━━━━━━━━━━━━━\u001b[0m \u001b[32m22/46\u001b[0m [bcrypt]\u001b[33m  WARNING: The script watchfiles is installed in '/usr/local/python/3.12.1/bin' which is not on PATH.\n",
            "  Consider adding this directory to PATH or, if you prefer to suppress this warning, use --no-warn-script-location.\u001b[0m\u001b[33m\n",
            "\u001b[0m\u001b[33m  WARNING: The scripts pyrsa-decrypt, pyrsa-encrypt, pyrsa-keygen, pyrsa-priv2pub, pyrsa-sign and pyrsa-verify are installed in '/usr/local/python/3.12.1/bin' which is not on PATH.\n",
            "  Consider adding this directory to PATH or, if you prefer to suppress this warning, use --no-warn-script-location.\u001b[0m\u001b[33m\n",
            "\u001b[2K   \u001b[91m━━━━━━━━━━━━━━━━━━━━━━━━━━\u001b[0m\u001b[90m╺\u001b[0m\u001b[90m━━━━━━━━━━━━━\u001b[0m \u001b[32m30/46\u001b[0m [markdown-it-py]\u001b[33m  WARNING: The script markdown-it is installed in '/usr/local/python/3.12.1/bin' which is not on PATH.\n",
            "  Consider adding this directory to PATH or, if you prefer to suppress this warning, use --no-warn-script-location.\u001b[0m\u001b[33m\n",
            "\u001b[2K   \u001b[91m━━━━━━━━━━━━━━━━━━━━━━━━━━━\u001b[0m\u001b[91m╸\u001b[0m\u001b[90m━━━━━━━━━━━━\u001b[0m \u001b[32m32/46\u001b[0m [huggingface-hub]\u001b[33m  WARNING: The scripts hf, huggingface-cli and tiny-agents are installed in '/usr/local/python/3.12.1/bin' which is not on PATH.\n",
            "  Consider adding this directory to PATH or, if you prefer to suppress this warning, use --no-warn-script-location.\u001b[0m\u001b[33m\n",
            "\u001b[2K   \u001b[91m━━━━━━━━━━━━━━━━━━━━━━━━━━━━\u001b[0m\u001b[91m╸\u001b[0m\u001b[90m━━━━━━━━━━━\u001b[0m \u001b[32m33/46\u001b[0m [coloredlogs]\u001b[33m  WARNING: The script coloredlogs is installed in '/usr/local/python/3.12.1/bin' which is not on PATH.\n",
            "  Consider adding this directory to PATH or, if you prefer to suppress this warning, use --no-warn-script-location.\u001b[0m\u001b[33m\n",
            "\u001b[0m\u001b[33m  WARNING: The script pyproject-build is installed in '/usr/local/python/3.12.1/bin' which is not on PATH.\n",
            "  Consider adding this directory to PATH or, if you prefer to suppress this warning, use --no-warn-script-location.\u001b[0m\u001b[33m\n",
            "\u001b[2K   \u001b[91m━━━━━━━━━━━━━━━━━━━━━━━━━━━━━━━━━\u001b[0m\u001b[90m╺\u001b[0m\u001b[90m━━━━━━\u001b[0m \u001b[32m38/46\u001b[0m [onnxruntime]\u001b[33m  WARNING: The script onnxruntime_test is installed in '/usr/local/python/3.12.1/bin' which is not on PATH.\n",
            "  Consider adding this directory to PATH or, if you prefer to suppress this warning, use --no-warn-script-location.\u001b[0m\u001b[33m\n",
            "\u001b[2K   \u001b[91m━━━━━━━━━━━━━━━━━━━━━━━━━━━━━━━━━\u001b[0m\u001b[91m╸\u001b[0m\u001b[90m━━━━━━\u001b[0m \u001b[32m39/46\u001b[0m [google-auth]\u001b[33m  WARNING: The script typer is installed in '/usr/local/python/3.12.1/bin' which is not on PATH.\n",
            "  Consider adding this directory to PATH or, if you prefer to suppress this warning, use --no-warn-script-location.\u001b[0m\u001b[33m\n",
            "\u001b[2K   \u001b[91m━━━━━━━━━━━━━━━━━━━━━━━━━━━━━━━━━━━━━━━\u001b[0m\u001b[90m╺\u001b[0m \u001b[32m45/46\u001b[0m [chromadb]opentelemetry-sdk]onventions]\u001b[33m  WARNING: The script chroma is installed in '/usr/local/python/3.12.1/bin' which is not on PATH.\n",
            "  Consider adding this directory to PATH or, if you prefer to suppress this warning, use --no-warn-script-location.\u001b[0m\u001b[33m\n",
            "\u001b[2K   \u001b[90m━━━━━━━━━━━━━━━━━━━━━━━━━━━━━━━━━━━━━━━━\u001b[0m \u001b[32m46/46\u001b[0m [chromadb]\n",
            "\u001b[1A\u001b[2KSuccessfully installed backoff-2.2.1 bcrypt-4.3.0 build-1.3.0 cachetools-5.5.2 chromadb-1.0.15 coloredlogs-15.0.1 durationpy-0.10 flatbuffers-25.2.10 google-auth-2.40.3 googleapis-common-protos-1.70.0 grpcio-1.74.0 hf-xet-1.1.5 httptools-0.6.4 huggingface-hub-0.34.3 humanfriendly-10.0 importlib-metadata-8.7.0 importlib-resources-6.5.2 kubernetes-33.1.0 markdown-it-py-3.0.0 mdurl-0.1.2 mmh3-5.2.0 oauthlib-3.3.1 onnxruntime-1.22.1 opentelemetry-api-1.36.0 opentelemetry-exporter-otlp-proto-common-1.36.0 opentelemetry-exporter-otlp-proto-grpc-1.36.0 opentelemetry-proto-1.36.0 opentelemetry-sdk-1.36.0 opentelemetry-semantic-conventions-0.57b0 posthog-5.4.0 pyasn1-0.6.1 pyasn1-modules-0.4.2 pybase64-1.4.2 pypika-0.48.9 pyproject_hooks-1.2.0 requests-oauthlib-2.0.0 rich-14.1.0 rsa-4.9.1 shellingham-1.5.4 tokenizers-0.21.4 typer-0.16.0 uvicorn-0.35.0 uvloop-0.21.0 watchfiles-1.1.0 websockets-15.0.1 zipp-3.23.0\n",
            "Note: you may need to restart the kernel to use updated packages.\n"
          ]
        }
      ],
      "source": [
        "%pip install --upgrade langchain chromadb"
      ]
    },
    {
      "cell_type": "markdown",
      "metadata": {
        "id": "55ab1c00"
      },
      "source": [
        "# Task\n",
        "Amend the `app.py` file to:\n",
        "1. Display the full text of the document after OCR.\n",
        "2. Add a RAG (Retrieval-Augmented Generation) function after the summary is provided. This function should allow for multiple queries of all uploaded documents until the user types 'exit'.\n",
        "3. Include instructions for users on how to use the RAG functionality."
      ]
    },
    {
      "cell_type": "markdown",
      "metadata": {
        "id": "e538e0ab"
      },
      "source": [
        "## Display extracted text\n",
        "\n",
        "### Subtask:\n",
        "Modify the `app.py` file to display the full text extracted from the PDF(s) after the OCR process is complete. This will appear before the summary.\n"
      ]
    },
    {
      "cell_type": "markdown",
      "metadata": {
        "id": "1dfbf461"
      },
      "source": [
        "**Reasoning**:\n",
        "I will modify the `app.py` file to display the extracted text from the PDF. I will add a subheader and a text area to show the `all_pdf_text` content before the summarization part, as requested in the instructions.\n",
        "\n"
      ]
    },
    {
      "cell_type": "markdown",
      "metadata": {
        "id": "c6151f9f"
      },
      "source": [
        "## Implement rag chat\n",
        "\n",
        "### Subtask:\n",
        "Add a new section to the Streamlit interface titled \"Chat with your Documents (RAG)\". This section will appear after the summary and will include a text input field for you to ask questions about the uploaded documents. The application should also allow for multiple questions until the user types \"exit\".\n"
      ]
    },
    {
      "cell_type": "markdown",
      "metadata": {
        "id": "8bfa94e3"
      },
      "source": [
        "**Reasoning**:\n",
        "I will overwrite the `app.py` file with the provided code, which includes the necessary changes for this subtask. I will add a new section with the subheader \"Chat with your Documents (RAG)\" after the summary section in the `main` function. Inside this new section, I will add a `st.text_input` field to get the user's query and implement a `while` loop that continues to prompt for input until the user enters \"exit\". Inside the loop, if the query is not \"exit\", I will use the existing `qa_chain` to get the answer and display it using `st.write`.\n",
        "\n"
      ]
    },
    {
      "cell_type": "markdown",
      "metadata": {
        "id": "db8856c7"
      },
      "source": [
        "**Reasoning**:\n",
        "The `app.py` file has been updated. Now, I will restart the Streamlit application to apply the changes.\n",
        "\n"
      ]
    },
    {
      "cell_type": "code",
      "execution_count": 11,
      "metadata": {
        "colab": {
          "base_uri": "https://localhost:8080/"
        },
        "id": "972b919c",
        "outputId": "fa5bd4f3-8c3b-4786-99d0-a72fa2953598"
      },
      "outputs": [
        {
          "name": "stdout",
          "output_type": "stream",
          "text": [
            "Overwriting app.py\n"
          ]
        }
      ],
      "source": [
        "%%writefile app.py\n",
        "import os\n",
        "import openai\n",
        "import pdf2image\n",
        "try:\n",
        "    from PIL import Image\n",
        "except ImportError:\n",
        "    import Image\n",
        "import pytesseract\n",
        "from langchain.text_splitter import RecursiveCharacterTextSplitter\n",
        "from langchain_openai import OpenAIEmbeddings\n",
        "from langchain.vectorstores import Chroma\n",
        "from langchain.chains import RetrievalQA\n",
        "from langchain_openai import ChatOpenAI\n",
        "import streamlit as st\n",
        "import tiktoken\n",
        "\n",
        "def pdf_to_img(pdf_file):\n",
        "    \"\"\"Converts a PDF file to a list of PIL Images.\"\"\"\n",
        "    return pdf2image.convert_from_path(pdf_file)\n",
        "\n",
        "\n",
        "def ocr_core(file):\n",
        "    \"\"\"Performs OCR on a single image and returns the extracted text.\"\"\"\n",
        "    return pytesseract.image_to_string(file)\n",
        "\n",
        "\n",
        "def extract_text_from_pdf(pdf_file):\n",
        "    \"\"\"Extracts text from all pages of a PDF file.\"\"\"\n",
        "    images = pdf_to_img(pdf_file)\n",
        "    extracted_text = \"\"\n",
        "    for img in images:\n",
        "        extracted_text += ocr_core(img) + \"\\n\\n\"\n",
        "    return extracted_text\n",
        "\n",
        "\n",
        "def count_tokens(text: str) -> int:\n",
        "    \"\"\"Counts the number of tokens in a string.\"\"\"\n",
        "    encoding = tiktoken.get_encoding(\"cl100k_base\")\n",
        "    return len(encoding.encode(text))\n",
        "\n",
        "def main():\n",
        "    \"\"\"Orchestrates the script's execution with a Streamlit GUI.\"\"\"\n",
        "    openai_api_key = os.getenv(\"OPENAI_API_KEY\")\n",
        "    openai.api_key = openai_api_key\n",
        "\n",
        "    st.title(\"PDF OCR & Summarize & RAG\")\n",
        "\n",
        "    with st.expander(\"IMPORTANT NOTICE\"):\n",
        "        st.write(\"\"\"\n",
        "        This web application is a prototype developed for educational purposes only. The information provided here is NOT intended for real-world usage and should not be relied upon for making any decisions, especially those related to financial, legal, or healthcare matters.\n",
        "\n",
        "        Furthermore, please be aware that the LLM may generate inaccurate or incorrect information. You assume full responsibility for how you use any generated output.\n",
        "\n",
        "        Always consult with qualified professionals for accurate and personalized advice.\n",
        "        \"\"\")\n",
        "\n",
        "    uploaded_files = st.file_uploader(\n",
        "        \"Upload PDF files\", type=\"pdf\", accept_multiple_files=True\n",
        "    )\n",
        "\n",
        "    if \"qa_chain\" not in st.session_state:\n",
        "        st.session_state.qa_chain = None\n",
        "\n",
        "    if uploaded_files:\n",
        "        all_pdf_text = \"\"\n",
        "        for uploaded_file in uploaded_files:\n",
        "            try:\n",
        "                with open(uploaded_file.name, \"wb\") as f:\n",
        "                    f.write(uploaded_file.getbuffer())\n",
        "                pdf_text = extract_text_from_pdf(uploaded_file.name)\n",
        "                all_pdf_text += pdf_text\n",
        "                st.success(f\"Successfully extracted text from '{uploaded_file.name}'.\")\n",
        "            except Exception as e:\n",
        "                st.error(f\"An error occurred while processing '{uploaded_file.name}': {e}\")\n",
        "\n",
        "        if all_pdf_text:\n",
        "            st.subheader(\"Extracted Text\")\n",
        "            st.text_area(\"Full text from PDF(s)\", all_pdf_text, height=300)\n",
        "\n",
        "            text_splitter = RecursiveCharacterTextSplitter(\n",
        "                chunk_size=1000, chunk_overlap=200\n",
        "            )\n",
        "            splits = text_splitter.split_text(all_pdf_text)\n",
        "\n",
        "            embeddings = OpenAIEmbeddings(openai_api_key=openai_api_key)\n",
        "            vectordb = Chroma.from_texts(splits, embeddings)\n",
        "\n",
        "            llm = ChatOpenAI(model_name=\"gpt-3.5-turbo\", temperature=0, openai_api_key=openai_api_key)\n",
        "            st.session_state.qa_chain = RetrievalQA.from_chain_type(\n",
        "                llm, retriever=vectordb.as_retriever()\n",
        "            )\n",
        "            query = \"Summarize the content of the PDF(s).\"\n",
        "            summary = st.session_state.qa_chain.run(query)\n",
        "            st.write(\"---\")\n",
        "            st.subheader(\"Summary\")\n",
        "            st.write(summary)\n",
        "            st.write(\"---\")\n",
        "            st.write(f\"Token count: {count_tokens(all_pdf_text)}\")\n",
        "\n",
        "    if st.session_state.qa_chain:\n",
        "        st.subheader(\"Chat with your Documents (RAG)\")\n",
        "        st.write(\"Ask questions about the uploaded documents. Type 'exit' to stop.\")\n",
        "\n",
        "        if \"messages\" not in st.session_state:\n",
        "            st.session_state.messages = []\n",
        "\n",
        "        for message in st.session_state.messages:\n",
        "            with st.chat_message(message[\"role\"]):\n",
        "                st.markdown(message[\"content\"])\n",
        "\n",
        "        if prompt := st.chat_input(\"Ask a question:\"):\n",
        "            st.session_state.messages.append({\"role\": \"user\", \"content\": prompt})\n",
        "            with st.chat_message(\"user\"):\n",
        "                st.markdown(prompt)\n",
        "\n",
        "            if prompt.lower() != \"exit\":\n",
        "                with st.chat_message(\"assistant\"):\n",
        "                    response = st.session_state.qa_chain.run(prompt)\n",
        "                    st.markdown(response)\n",
        "                st.session_state.messages.append({\"role\": \"assistant\", \"content\": response})\n",
        "\n",
        "if __name__ == \"__main__\":\n",
        "    main()"
      ]
    },
    {
      "cell_type": "code",
      "execution_count": 8,
      "metadata": {
        "colab": {
          "base_uri": "https://localhost:8080/"
        },
        "id": "4e157bca",
        "outputId": "e9996127-04e3-425d-beba-2b58b2db12d8"
      },
      "outputs": [
        {
          "name": "stdout",
          "output_type": "stream",
          "text": [
            "mkdir: cannot create directory ‘pages’: File exists\n"
          ]
        }
      ],
      "source": [
        "!mkdir pages"
      ]
    },
    {
      "cell_type": "code",
      "execution_count": 9,
      "metadata": {
        "colab": {
          "base_uri": "https://localhost:8080/"
        },
        "id": "ff02d177",
        "outputId": "2740ee1c-af8f-4fa0-e3e9-ad1b169b485e"
      },
      "outputs": [
        {
          "name": "stdout",
          "output_type": "stream",
          "text": [
            "Overwriting pages/AboutUs.py\n"
          ]
        }
      ],
      "source": [
        "%%writefile pages/AboutUs.py\n",
        "import streamlit as st\n",
        "\n",
        "st.title(\"About Us\")\n",
        "\n",
        "st.write(\"\"\"\n",
        "\n",
        "My initial project scope on Padlet was a simple RAG that reads the FAQ section of Archives Online, and provides information to users of the RAG Tool. But later on I wanted to try something else that is way beyond my capability, but if successful, would be a practical tool that I will see myself using. That is to convert the PDFs of speeches on the Archives Online website into text using OCR function. Here's a link to the speeches where you can download the PDFs to try: https://www.nas.gov.sg/archivesonline/speeches/search-result?search-type=advanced&speaker=Ong+Teng+Cheong\n",
        "\n",
        "I had some limitations - AISAY, which I had initially wanted to try out, were still in the midst of preparing the tool for use. Hence, I tried PyTesseract OCR as recommended by Mr Aldrian. Unfortunately, I soon found out that I had a bigger problem - the version of my MAC OS is too outdated. I am unable to download and install the Tesseract packages successfully in my local machine, and I am also unable to install and run Visual Studio Code. The browser version of VS Code is unable to use the terminal function, so that also takes away access. Hence I am trying a workaround by using Google Colab and running Streamlit from Colab instead. But this will mean that the Streamlit link can only be used when the Colab notebook is being run.\n",
        "\n",
        "The main objective of this tool is to extract text from the PDF documents on Archives Online using OCR.\n",
        "\n",
        "These are the features that I wanted:\n",
        "- To allow users to upload their own PDFs into the tool\n",
        "- To allow for uploading of multiple files\n",
        "- To summarize the text extracted from the PDFs\n",
        "\n",
        "Bonus:\n",
        "- To display the full text of the document after OCR.\n",
        "- Add a RAG (Retrieval-Augmented Generation) function after the summary is provided. This function should allow for multiple queries of all uploaded documents until the user types 'exit'.\n",
        "- Include instructions for users on how to use the RAG functionality.\n",
        "\n",
        "I MUST admit that Gemini helped to make the functions possible. At my current level, I am definitely unable to code all these by myself. As you can see from this notebook, Gemini was the one who helped me with much of the code.\n",
        "\n",
        "\"\"\")"
      ]
    },
    {
      "cell_type": "code",
      "execution_count": 10,
      "metadata": {
        "colab": {
          "base_uri": "https://localhost:8080/"
        },
        "id": "bdcc02ca",
        "outputId": "4fd280ac-7c6f-4a7e-d630-747d8559697a"
      },
      "outputs": [
        {
          "name": "stdout",
          "output_type": "stream",
          "text": [
            "Requirement already satisfied: graphviz in /home/codespace/.python/current/lib/python3.12/site-packages (0.21)\n"
          ]
        }
      ],
      "source": [
        "!pip install graphviz"
      ]
    },
    {
      "cell_type": "code",
      "execution_count": 11,
      "metadata": {
        "colab": {
          "base_uri": "https://localhost:8080/"
        },
        "id": "ae64a3ad",
        "outputId": "801ef09c-6904-4c8e-a373-e6e6e4e1ab6c"
      },
      "outputs": [
        {
          "name": "stdout",
          "output_type": "stream",
          "text": [
            "Overwriting pages/Methodology.py\n"
          ]
        }
      ],
      "source": [
        "%%writefile pages/Methodology.py\n",
        "import streamlit as st\n",
        "import graphviz\n",
        "\n",
        "st.title(\"Methodology\")\n",
        "\n",
        "st.header(\"Process Flowchart\")\n",
        "\n",
        "# Create a new directed graph\n",
        "graph = graphviz.Digraph()\n",
        "\n",
        "# Add nodes for each step in the process\n",
        "graph.node(\"A\", \"User uploads PDF(s)\")\n",
        "graph.node(\"B\", \"Extract text using OCR\")\n",
        "graph.node(\"C\", \"Display extracted text\")\n",
        "graph.node(\"D\", \"Summarize the text\")\n",
        "graph.node(\"E\", \"Display summary\")\n",
        "graph.node(\"F\", \"Chat with documents (RAG)\")\n",
        "\n",
        "# Add edges to show the flow\n",
        "graph.edge(\"A\", \"B\")\n",
        "graph.edge(\"B\", \"C\")\n",
        "graph.edge(\"C\", \"D\")\n",
        "graph.edge(\"D\", \"E\")\n",
        "graph.edge(\"E\", \"F\")\n",
        "\n",
        "# Display the flowchart\n",
        "st.graphviz_chart(graph)"
      ]
    },
    {
      "cell_type": "code",
      "execution_count": 12,
      "metadata": {
        "colab": {
          "base_uri": "https://localhost:8080/"
        },
        "id": "ef943316",
        "outputId": "13ac31e0-7c2d-41c6-f789-0cd13e19a9e2"
      },
      "outputs": [
        {
          "ename": "StreamlitSecretNotFoundError",
          "evalue": "No secrets found. Valid paths for a secrets.toml file or secret directories are: /home/codespace/.streamlit/secrets.toml, /workspaces/PDF-OCR-RAG-Tool/.streamlit/secrets.toml",
          "output_type": "error",
          "traceback": [
            "\u001b[31m---------------------------------------------------------------------------\u001b[39m",
            "\u001b[31mStreamlitSecretNotFoundError\u001b[39m              Traceback (most recent call last)",
            "\u001b[36mCell\u001b[39m\u001b[36m \u001b[39m\u001b[32mIn[12]\u001b[39m\u001b[32m, line 5\u001b[39m\n\u001b[32m      1\u001b[39m \u001b[38;5;28;01mimport\u001b[39;00m\u001b[38;5;250m \u001b[39m\u001b[34;01mos\u001b[39;00m\n\u001b[32m      2\u001b[39m \u001b[38;5;28;01mimport\u001b[39;00m\u001b[38;5;250m \u001b[39m\u001b[34;01mstreamlit\u001b[39;00m\u001b[38;5;250m \u001b[39m\u001b[38;5;28;01mas\u001b[39;00m\u001b[38;5;250m \u001b[39m\u001b[34;01mst\u001b[39;00m\n\u001b[32m----> \u001b[39m\u001b[32m5\u001b[39m OPENAI_KEY = \u001b[43mst\u001b[49m\u001b[43m.\u001b[49m\u001b[43msecrets\u001b[49m\u001b[43m[\u001b[49m\u001b[33;43m'\u001b[39;49m\u001b[33;43mOPENAI_API_KEY\u001b[39;49m\u001b[33;43m'\u001b[39;49m\u001b[43m]\u001b[49m\n\u001b[32m      6\u001b[39m \u001b[38;5;66;03m# Some other code here are omitted for brevity\u001b[39;00m\n\u001b[32m      8\u001b[39m client = OpenAI(api_key=os.getenv(\u001b[33m'\u001b[39m\u001b[33mOPENAI_API_KEY\u001b[39m\u001b[33m'\u001b[39m))\n",
            "\u001b[36mFile \u001b[39m\u001b[32m/usr/local/python/3.12.1/lib/python3.12/site-packages/streamlit/runtime/secrets.py:476\u001b[39m, in \u001b[36mSecrets.__getitem__\u001b[39m\u001b[34m(self, key)\u001b[39m\n\u001b[32m    470\u001b[39m \u001b[38;5;250m\u001b[39m\u001b[33;03m\"\"\"Return the value with the given key. If no such key\u001b[39;00m\n\u001b[32m    471\u001b[39m \u001b[33;03mexists, raise a KeyError.\u001b[39;00m\n\u001b[32m    472\u001b[39m \n\u001b[32m    473\u001b[39m \u001b[33;03mThread-safe.\u001b[39;00m\n\u001b[32m    474\u001b[39m \u001b[33;03m\"\"\"\u001b[39;00m\n\u001b[32m    475\u001b[39m \u001b[38;5;28;01mtry\u001b[39;00m:\n\u001b[32m--> \u001b[39m\u001b[32m476\u001b[39m     value = \u001b[38;5;28;43mself\u001b[39;49m\u001b[43m.\u001b[49m\u001b[43m_parse\u001b[49m\u001b[43m(\u001b[49m\u001b[43m)\u001b[49m[key]\n\u001b[32m    477\u001b[39m     \u001b[38;5;28;01mif\u001b[39;00m \u001b[38;5;129;01mnot\u001b[39;00m \u001b[38;5;28misinstance\u001b[39m(value, Mapping):\n\u001b[32m    478\u001b[39m         \u001b[38;5;28;01mreturn\u001b[39;00m value\n",
            "\u001b[36mFile \u001b[39m\u001b[32m/usr/local/python/3.12.1/lib/python3.12/site-packages/streamlit/runtime/secrets.py:377\u001b[39m, in \u001b[36mSecrets._parse\u001b[39m\u001b[34m(self)\u001b[39m\n\u001b[32m    371\u001b[39m \u001b[38;5;28;01mif\u001b[39;00m \u001b[38;5;129;01mnot\u001b[39;00m found_secrets_file:\n\u001b[32m    372\u001b[39m     error_msg = (\n\u001b[32m    373\u001b[39m         secret_error_messages_singleton.get_no_secrets_found_message(\n\u001b[32m    374\u001b[39m             file_paths\n\u001b[32m    375\u001b[39m         )\n\u001b[32m    376\u001b[39m     )\n\u001b[32m--> \u001b[39m\u001b[32m377\u001b[39m     \u001b[38;5;28;01mraise\u001b[39;00m StreamlitSecretNotFoundError(error_msg)\n\u001b[32m    379\u001b[39m \u001b[38;5;28;01mfor\u001b[39;00m k, v \u001b[38;5;129;01min\u001b[39;00m secrets.items():\n\u001b[32m    380\u001b[39m     \u001b[38;5;28mself\u001b[39m._maybe_set_environment_variable(k, v)\n",
            "\u001b[31mStreamlitSecretNotFoundError\u001b[39m: No secrets found. Valid paths for a secrets.toml file or secret directories are: /home/codespace/.streamlit/secrets.toml, /workspaces/PDF-OCR-RAG-Tool/.streamlit/secrets.toml"
          ]
        }
      ],
      "source": [
        "import os\n",
        "import streamlit as st\n",
        "\n",
        "\n",
        "OPENAI_KEY = st.secrets['OPENAI_API_KEY']\n",
        "# Some other code here are omitted for brevity\n",
        "\n",
        "client = OpenAI(api_key=os.getenv('OPENAI_API_KEY'))\n",
        "# Start the Streamlit app and expose it via LocalTunnel\n",
        "\n",
        "!streamlit run app.py &>/content/logs.txt &\n",
        "!npx localtunnel --port 8501 & curl ipv4.icanhazip.com"
      ]
    }
  ],
  "metadata": {
    "colab": {
      "authorship_tag": "ABX9TyOGb7JwJVpi9WBpmDXlQ3vp",
      "provenance": []
    },
    "kernelspec": {
      "display_name": "Python 3",
      "name": "python3"
    },
    "language_info": {
      "codemirror_mode": {
        "name": "ipython",
        "version": 3
      },
      "file_extension": ".py",
      "mimetype": "text/x-python",
      "name": "python",
      "nbconvert_exporter": "python",
      "pygments_lexer": "ipython3",
      "version": "3.12.1"
    }
  },
  "nbformat": 4,
  "nbformat_minor": 0
}
